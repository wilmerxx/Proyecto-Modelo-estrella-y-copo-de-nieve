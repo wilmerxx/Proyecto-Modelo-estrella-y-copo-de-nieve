{
  "nbformat": 4,
  "nbformat_minor": 0,
  "metadata": {
    "colab": {
      "name": "Proyecto_Final_MBD.ipynb",
      "provenance": [],
      "collapsed_sections": []
    },
    "kernelspec": {
      "name": "python3",
      "display_name": "Python 3"
    },
    "language_info": {
      "name": "python"
    }
  },
  "cells": [
    {
      "cell_type": "markdown",
      "source": [
        "# **PROYECTO UNIDAD 3**\n",
        "- Integrantes \n",
        " - Noelia Ancundia \n",
        " - Wilmer Shagñay"
      ],
      "metadata": {
        "id": "nxxn1NpDWBgG"
      }
    },
    {
      "cell_type": "markdown",
      "source": [
        "#**MODELO ESTRELLA**"
      ],
      "metadata": {
        "id": "C2qpWSf2WYqV"
      }
    },
    {
      "cell_type": "markdown",
      "source": [
        "##**Librerias**\n",
        "\n",
        "---\n",
        "\n"
      ],
      "metadata": {
        "id": "cT7mMXihuqlc"
      }
    },
    {
      "cell_type": "code",
      "execution_count": 1,
      "metadata": {
        "id": "-CHwO1Y0V85O"
      },
      "outputs": [],
      "source": [
        "import sqlite3\n",
        "import numpy\n",
        "import glob\n",
        "import pandas as pd\n",
        "import sqlalchemy"
      ]
    },
    {
      "cell_type": "markdown",
      "source": [
        "##Crear dimensiones y base de datos \n",
        "\n",
        "---\n",
        "\n"
      ],
      "metadata": {
        "id": "xglQWjCiWATg"
      }
    },
    {
      "cell_type": "markdown",
      "source": [
        "Función de crear dimensiones"
      ],
      "metadata": {
        "id": "gEclyt-w1JYL"
      }
    },
    {
      "cell_type": "code",
      "source": [
        "def crear_dimension(query):\n",
        "    conexion=sqlite3.connect(\"DW_estrella.db\")\n",
        "    try:\n",
        "        conexion.execute(query)\n",
        "        print(\"se creo la tabla\")                        \n",
        "    except sqlite3.OperationalError:\n",
        "        print(\"La tabla ingresada ya existe\")                    \n",
        "    conexion.close()"
      ],
      "metadata": {
        "id": "vwAe6Torv-Hx"
      },
      "execution_count": 2,
      "outputs": []
    },
    {
      "cell_type": "markdown",
      "source": [
        "Crear la dimensión custumer"
      ],
      "metadata": {
        "id": "WJzfj4ZL3F3D"
      }
    },
    {
      "cell_type": "code",
      "source": [
        "customer_query = '''CREATE TABLE dim_Customer (\n",
        "                    Id_custumer  VARCHAR (8000) PRIMARY KEY,\n",
        "                    cus_Address      VARCHAR (8000),\n",
        "                    cus_City         VARCHAR (8000),\n",
        "                    cus_Country      VARCHAR (8000),\n",
        "                    cus_Phone        VARCHAR (8000)\n",
        "                );'''\n",
        "\n",
        "crear_dimension(customer_query)"
      ],
      "metadata": {
        "colab": {
          "base_uri": "https://localhost:8080/"
        },
        "id": "YAVbWIEgn8Dl",
        "outputId": "be9c2075-676e-4b41-aef6-7433ebba2739"
      },
      "execution_count": 3,
      "outputs": [
        {
          "output_type": "stream",
          "name": "stdout",
          "text": [
            "se creo la tabla\n"
          ]
        }
      ]
    },
    {
      "cell_type": "markdown",
      "source": [
        "Crear la dimensión employees"
      ],
      "metadata": {
        "id": "OuJQj4m53ybz"
      }
    },
    {
      "cell_type": "code",
      "source": [
        "employees_query = '''CREATE TABLE dim_Employee (\n",
        "                      Id_employee     INTEGER        PRIMARY KEY,\n",
        "                      emp_LastName    VARCHAR (8000),\n",
        "                      emp_FirstName   VARCHAR (8000),\n",
        "                      emp_Title       VARCHAR (8000),\n",
        "                      emp_Address     VARCHAR (8000),\n",
        "                      emp_City        VARCHAR (8000),\n",
        "                      emp_Country     VARCHAR (8000)\n",
        "                  );\n",
        "                  '''\n",
        "\n",
        "crear_dimension(employees_query)"
      ],
      "metadata": {
        "colab": {
          "base_uri": "https://localhost:8080/"
        },
        "id": "U3n32qEOpVw2",
        "outputId": "7f0613db-7653-4e49-bc2d-6037c6b519f0"
      },
      "execution_count": 4,
      "outputs": [
        {
          "output_type": "stream",
          "name": "stdout",
          "text": [
            "se creo la tabla\n"
          ]
        }
      ]
    },
    {
      "cell_type": "markdown",
      "source": [
        "Crear la dimensión producto"
      ],
      "metadata": {
        "id": "UZ9zKkNc3yjU"
      }
    },
    {
      "cell_type": "code",
      "source": [
        "producto_query = '''\n",
        "                  CREATE TABLE dim_Product (\n",
        "                      Id_produc       INTEGER PRIMARY KEY,\n",
        "                      ProductName     VARCHAR (8000),\n",
        "                      CategoryName VARCHAR (8000)\n",
        "                  );'''\n",
        "crear_dimension(producto_query)"
      ],
      "metadata": {
        "colab": {
          "base_uri": "https://localhost:8080/"
        },
        "id": "hu7SaiSuvj98",
        "outputId": "3283b2cd-216e-4707-8642-97512a383286"
      },
      "execution_count": 5,
      "outputs": [
        {
          "output_type": "stream",
          "name": "stdout",
          "text": [
            "se creo la tabla\n"
          ]
        }
      ]
    },
    {
      "cell_type": "markdown",
      "source": [
        "Crear la dimensión supplier"
      ],
      "metadata": {
        "id": "UwZL3Xk33ymT"
      }
    },
    {
      "cell_type": "code",
      "source": [
        "supplier_query = '''CREATE TABLE dim_Supplier (\n",
        "                    Id_supplier      INTEGER PRIMARY KEY NOT NULL,\n",
        "                    sup_CompanyName  VARCHAR (8000),\n",
        "                    sup_Address      VARCHAR (8000),\n",
        "                    sup_City         VARCHAR (8000),\n",
        "                    sup_Country      VARCHAR (8000)\n",
        "                );'''\n",
        "crear_dimension(supplier_query)"
      ],
      "metadata": {
        "colab": {
          "base_uri": "https://localhost:8080/"
        },
        "id": "STN2aB7zMUP1",
        "outputId": "e6c8cbe9-142c-4869-a9a2-daecbca2ed9e"
      },
      "execution_count": 6,
      "outputs": [
        {
          "output_type": "stream",
          "name": "stdout",
          "text": [
            "se creo la tabla\n"
          ]
        }
      ]
    },
    {
      "cell_type": "markdown",
      "source": [
        "Crear la dimensión Tiempo"
      ],
      "metadata": {
        "id": "No7EKaHo3ypr"
      }
    },
    {
      "cell_type": "code",
      "source": [
        "time_query = '''CREATE TABLE dim_time (\n",
        "                Id_time    INTEGER       PRIMARY KEY\n",
        "                                        NOT NULL,\n",
        "                Date       DATE          NOT NULL,\n",
        "                Day        INTEGER       NOT NULL,\n",
        "                Month      INTEGER       NOT NULL,\n",
        "                Year       INTEGER       NOT NULL,\n",
        "                Quarter    INTEGER       NOT NULL,\n",
        "                Week       INTEGER       NOT NULL,\n",
        "                WeekDay    INTEGER       NOT NULL,\n",
        "                Name_Day   NVARCHAR (10) NOT NULL,\n",
        "                Name_Month NVARCHAR (15) NOT NULL\n",
        "                );\n",
        "                '''\n",
        "crear_dimension(time_query)"
      ],
      "metadata": {
        "colab": {
          "base_uri": "https://localhost:8080/"
        },
        "id": "ydUnJ0Z8NUpS",
        "outputId": "5ecb7952-f89d-468b-c91b-dbb64c99d89c"
      },
      "execution_count": 7,
      "outputs": [
        {
          "output_type": "stream",
          "name": "stdout",
          "text": [
            "se creo la tabla\n"
          ]
        }
      ]
    },
    {
      "cell_type": "markdown",
      "source": [
        "Crear la Tabla de hechos "
      ],
      "metadata": {
        "id": "2b7lwvW23yuz"
      }
    },
    {
      "cell_type": "code",
      "source": [
        "hecho_query = '''CREATE TABLE Fact_sales_order (\n",
        "                  Id_hechos     INTEGER         PRIMARY KEY AUTOINCREMENT\n",
        "                                                NOT NULL,\n",
        "                  Id_custumer   VARCHAR (8000)  REFERENCES dim_Customer (Id_custumer),\n",
        "                  Id_employee   INTEGER         REFERENCES dim_Employee (Id_employee) \n",
        "                                                NOT NULL,\n",
        "                  Id_time       INTEGER         REFERENCES dim_time (Id_time) \n",
        "                                                NOT NULL,\n",
        "                  Id_supplier   INTEGER         REFERENCES dim_Supplier (Id_supplier) \n",
        "                                                NOT NULL,\n",
        "                  Id_produc     INTEGER         REFERENCES dim_Product (Id_produc) \n",
        "                                                NOT NULL,\n",
        "                  Quantity      INTEGER         NOT NULL,\n",
        "                  UnitPrice     DECIMAL         NOT NULL,\n",
        "                  Total         NUMERIC (10, 2) NOT NULL\n",
        "              );'''\n",
        "\n",
        "crear_dimension(hecho_query)"
      ],
      "metadata": {
        "colab": {
          "base_uri": "https://localhost:8080/"
        },
        "id": "OdkiUofgN_LB",
        "outputId": "8a91ae27-dc62-45d8-c49f-325d97787f50"
      },
      "execution_count": 8,
      "outputs": [
        {
          "output_type": "stream",
          "name": "stdout",
          "text": [
            "se creo la tabla\n"
          ]
        }
      ]
    },
    {
      "cell_type": "markdown",
      "source": [
        "# **Proceso ETL**\n",
        "\n",
        "---\n",
        "\n",
        "\n",
        "\n"
      ],
      "metadata": {
        "id": "uRuFJbQl3y0D"
      }
    },
    {
      "cell_type": "markdown",
      "source": [
        "## **Conexión a la base de datos**\n"
      ],
      "metadata": {
        "id": "t9RM9XPu3y89"
      }
    },
    {
      "cell_type": "markdown",
      "source": [
        "Conexión a la base de datos Northwind_large"
      ],
      "metadata": {
        "id": "ycO51QlvwCHg"
      }
    },
    {
      "cell_type": "code",
      "source": [
        "path = \"sqlite:///Northwind_large.sqlite\"\n",
        "motorDB = sqlalchemy.create_engine(path)\n",
        "conectarDB = motorDB.connect()\n"
      ],
      "metadata": {
        "id": "2uvO-8VavYcP"
      },
      "execution_count": 9,
      "outputs": []
    },
    {
      "cell_type": "markdown",
      "source": [
        "##**EXTRACCIÓN**\n",
        "\n",
        "---\n",
        "\n"
      ],
      "metadata": {
        "id": "xXN0tReLwlHY"
      }
    },
    {
      "cell_type": "markdown",
      "source": [
        "Función del proceso de extracción"
      ],
      "metadata": {
        "id": "IToB6SAsx5EW"
      }
    },
    {
      "cell_type": "code",
      "source": [
        "def extraer_datos_sql(conectarDB,query):\n",
        "    result = conectarDB.execute(query)\n",
        "    df = pd.DataFrame(result.fetchall())\n",
        "    df.columns = result.keys()\n",
        "    return df"
      ],
      "metadata": {
        "id": "hDWPpA9DxsAw"
      },
      "execution_count": 10,
      "outputs": []
    },
    {
      "cell_type": "markdown",
      "source": [
        "Extracción de datos para la dimension custumers "
      ],
      "metadata": {
        "id": "C8haaFngyoap"
      }
    },
    {
      "cell_type": "code",
      "source": [
        "query = '''SELECT Id AS Id_custumer,\n",
        "                  Address AS cus_Address,\n",
        "                  City AS cus_City,\n",
        "                  Country AS cus_Country,\n",
        "                  Phone AS cus_Phone\n",
        "              FROM Customer;'''\n",
        "df_custumer = extraer_datos_sql(conectarDB,query)\n",
        "df_custumer.head()\n"
      ],
      "metadata": {
        "colab": {
          "base_uri": "https://localhost:8080/",
          "height": 206
        },
        "id": "r7taQpv_y4QH",
        "outputId": "0aa18b3d-ad0c-44db-e5fd-adc9b8d41bf5"
      },
      "execution_count": 11,
      "outputs": [
        {
          "output_type": "execute_result",
          "data": {
            "text/html": [
              "\n",
              "  <div id=\"df-ed319e3c-ef12-4c06-88fc-42aac81bdf85\">\n",
              "    <div class=\"colab-df-container\">\n",
              "      <div>\n",
              "<style scoped>\n",
              "    .dataframe tbody tr th:only-of-type {\n",
              "        vertical-align: middle;\n",
              "    }\n",
              "\n",
              "    .dataframe tbody tr th {\n",
              "        vertical-align: top;\n",
              "    }\n",
              "\n",
              "    .dataframe thead th {\n",
              "        text-align: right;\n",
              "    }\n",
              "</style>\n",
              "<table border=\"1\" class=\"dataframe\">\n",
              "  <thead>\n",
              "    <tr style=\"text-align: right;\">\n",
              "      <th></th>\n",
              "      <th>Id_custumer</th>\n",
              "      <th>cus_Address</th>\n",
              "      <th>cus_City</th>\n",
              "      <th>cus_Country</th>\n",
              "      <th>cus_Phone</th>\n",
              "    </tr>\n",
              "  </thead>\n",
              "  <tbody>\n",
              "    <tr>\n",
              "      <th>0</th>\n",
              "      <td>ALFKI</td>\n",
              "      <td>Obere Str. 57</td>\n",
              "      <td>Berlin</td>\n",
              "      <td>Germany</td>\n",
              "      <td>030-0074321</td>\n",
              "    </tr>\n",
              "    <tr>\n",
              "      <th>1</th>\n",
              "      <td>ANATR</td>\n",
              "      <td>Avda. de la Constitución 2222</td>\n",
              "      <td>México D.F.</td>\n",
              "      <td>Mexico</td>\n",
              "      <td>(5) 555-4729</td>\n",
              "    </tr>\n",
              "    <tr>\n",
              "      <th>2</th>\n",
              "      <td>ANTON</td>\n",
              "      <td>Mataderos  2312</td>\n",
              "      <td>México D.F.</td>\n",
              "      <td>Mexico</td>\n",
              "      <td>(5) 555-3932</td>\n",
              "    </tr>\n",
              "    <tr>\n",
              "      <th>3</th>\n",
              "      <td>AROUT</td>\n",
              "      <td>120 Hanover Sq.</td>\n",
              "      <td>London</td>\n",
              "      <td>UK</td>\n",
              "      <td>(171) 555-7788</td>\n",
              "    </tr>\n",
              "    <tr>\n",
              "      <th>4</th>\n",
              "      <td>BERGS</td>\n",
              "      <td>Berguvsvägen  8</td>\n",
              "      <td>Luleå</td>\n",
              "      <td>Sweden</td>\n",
              "      <td>0921-12 34 65</td>\n",
              "    </tr>\n",
              "  </tbody>\n",
              "</table>\n",
              "</div>\n",
              "      <button class=\"colab-df-convert\" onclick=\"convertToInteractive('df-ed319e3c-ef12-4c06-88fc-42aac81bdf85')\"\n",
              "              title=\"Convert this dataframe to an interactive table.\"\n",
              "              style=\"display:none;\">\n",
              "        \n",
              "  <svg xmlns=\"http://www.w3.org/2000/svg\" height=\"24px\"viewBox=\"0 0 24 24\"\n",
              "       width=\"24px\">\n",
              "    <path d=\"M0 0h24v24H0V0z\" fill=\"none\"/>\n",
              "    <path d=\"M18.56 5.44l.94 2.06.94-2.06 2.06-.94-2.06-.94-.94-2.06-.94 2.06-2.06.94zm-11 1L8.5 8.5l.94-2.06 2.06-.94-2.06-.94L8.5 2.5l-.94 2.06-2.06.94zm10 10l.94 2.06.94-2.06 2.06-.94-2.06-.94-.94-2.06-.94 2.06-2.06.94z\"/><path d=\"M17.41 7.96l-1.37-1.37c-.4-.4-.92-.59-1.43-.59-.52 0-1.04.2-1.43.59L10.3 9.45l-7.72 7.72c-.78.78-.78 2.05 0 2.83L4 21.41c.39.39.9.59 1.41.59.51 0 1.02-.2 1.41-.59l7.78-7.78 2.81-2.81c.8-.78.8-2.07 0-2.86zM5.41 20L4 18.59l7.72-7.72 1.47 1.35L5.41 20z\"/>\n",
              "  </svg>\n",
              "      </button>\n",
              "      \n",
              "  <style>\n",
              "    .colab-df-container {\n",
              "      display:flex;\n",
              "      flex-wrap:wrap;\n",
              "      gap: 12px;\n",
              "    }\n",
              "\n",
              "    .colab-df-convert {\n",
              "      background-color: #E8F0FE;\n",
              "      border: none;\n",
              "      border-radius: 50%;\n",
              "      cursor: pointer;\n",
              "      display: none;\n",
              "      fill: #1967D2;\n",
              "      height: 32px;\n",
              "      padding: 0 0 0 0;\n",
              "      width: 32px;\n",
              "    }\n",
              "\n",
              "    .colab-df-convert:hover {\n",
              "      background-color: #E2EBFA;\n",
              "      box-shadow: 0px 1px 2px rgba(60, 64, 67, 0.3), 0px 1px 3px 1px rgba(60, 64, 67, 0.15);\n",
              "      fill: #174EA6;\n",
              "    }\n",
              "\n",
              "    [theme=dark] .colab-df-convert {\n",
              "      background-color: #3B4455;\n",
              "      fill: #D2E3FC;\n",
              "    }\n",
              "\n",
              "    [theme=dark] .colab-df-convert:hover {\n",
              "      background-color: #434B5C;\n",
              "      box-shadow: 0px 1px 3px 1px rgba(0, 0, 0, 0.15);\n",
              "      filter: drop-shadow(0px 1px 2px rgba(0, 0, 0, 0.3));\n",
              "      fill: #FFFFFF;\n",
              "    }\n",
              "  </style>\n",
              "\n",
              "      <script>\n",
              "        const buttonEl =\n",
              "          document.querySelector('#df-ed319e3c-ef12-4c06-88fc-42aac81bdf85 button.colab-df-convert');\n",
              "        buttonEl.style.display =\n",
              "          google.colab.kernel.accessAllowed ? 'block' : 'none';\n",
              "\n",
              "        async function convertToInteractive(key) {\n",
              "          const element = document.querySelector('#df-ed319e3c-ef12-4c06-88fc-42aac81bdf85');\n",
              "          const dataTable =\n",
              "            await google.colab.kernel.invokeFunction('convertToInteractive',\n",
              "                                                     [key], {});\n",
              "          if (!dataTable) return;\n",
              "\n",
              "          const docLinkHtml = 'Like what you see? Visit the ' +\n",
              "            '<a target=\"_blank\" href=https://colab.research.google.com/notebooks/data_table.ipynb>data table notebook</a>'\n",
              "            + ' to learn more about interactive tables.';\n",
              "          element.innerHTML = '';\n",
              "          dataTable['output_type'] = 'display_data';\n",
              "          await google.colab.output.renderOutput(dataTable, element);\n",
              "          const docLink = document.createElement('div');\n",
              "          docLink.innerHTML = docLinkHtml;\n",
              "          element.appendChild(docLink);\n",
              "        }\n",
              "      </script>\n",
              "    </div>\n",
              "  </div>\n",
              "  "
            ],
            "text/plain": [
              "  Id_custumer                    cus_Address  ... cus_Country       cus_Phone\n",
              "0       ALFKI                  Obere Str. 57  ...     Germany     030-0074321\n",
              "1       ANATR  Avda. de la Constitución 2222  ...      Mexico    (5) 555-4729\n",
              "2       ANTON                Mataderos  2312  ...      Mexico    (5) 555-3932\n",
              "3       AROUT                120 Hanover Sq.  ...          UK  (171) 555-7788\n",
              "4       BERGS                Berguvsvägen  8  ...      Sweden   0921-12 34 65\n",
              "\n",
              "[5 rows x 5 columns]"
            ]
          },
          "metadata": {},
          "execution_count": 11
        }
      ]
    },
    {
      "cell_type": "markdown",
      "source": [
        "Extracción de datos para la dimension employees "
      ],
      "metadata": {
        "id": "TK7LEgVCzqy6"
      }
    },
    {
      "cell_type": "code",
      "source": [
        "query = '''SELECT LastName AS emp_LastName,\n",
        "                  FirstName AS emp_FirstName,\n",
        "                  Title AS emp_Title,\n",
        "                  Address AS emp_Address,\n",
        "                  City AS emp_City,\n",
        "                  Country AS emp_Country\n",
        "              FROM Employee;'''\n",
        "df_employees = extraer_datos_sql(conectarDB,query)\n",
        "df_employees.head()"
      ],
      "metadata": {
        "colab": {
          "base_uri": "https://localhost:8080/",
          "height": 206
        },
        "id": "faS-R959zqy6",
        "outputId": "0ebc6129-823e-4fbf-9dcd-f31e5c66feca"
      },
      "execution_count": 12,
      "outputs": [
        {
          "output_type": "execute_result",
          "data": {
            "text/html": [
              "\n",
              "  <div id=\"df-f4ca763f-42fc-4935-a57e-a8bbb7046934\">\n",
              "    <div class=\"colab-df-container\">\n",
              "      <div>\n",
              "<style scoped>\n",
              "    .dataframe tbody tr th:only-of-type {\n",
              "        vertical-align: middle;\n",
              "    }\n",
              "\n",
              "    .dataframe tbody tr th {\n",
              "        vertical-align: top;\n",
              "    }\n",
              "\n",
              "    .dataframe thead th {\n",
              "        text-align: right;\n",
              "    }\n",
              "</style>\n",
              "<table border=\"1\" class=\"dataframe\">\n",
              "  <thead>\n",
              "    <tr style=\"text-align: right;\">\n",
              "      <th></th>\n",
              "      <th>emp_LastName</th>\n",
              "      <th>emp_FirstName</th>\n",
              "      <th>emp_Title</th>\n",
              "      <th>emp_Address</th>\n",
              "      <th>emp_City</th>\n",
              "      <th>emp_Country</th>\n",
              "    </tr>\n",
              "  </thead>\n",
              "  <tbody>\n",
              "    <tr>\n",
              "      <th>0</th>\n",
              "      <td>Davolio</td>\n",
              "      <td>Nancy</td>\n",
              "      <td>Sales Representative</td>\n",
              "      <td>507 - 20th Ave. E. Apt. 2A</td>\n",
              "      <td>Seattle</td>\n",
              "      <td>USA</td>\n",
              "    </tr>\n",
              "    <tr>\n",
              "      <th>1</th>\n",
              "      <td>Fuller</td>\n",
              "      <td>Andrew</td>\n",
              "      <td>Vice President, Sales</td>\n",
              "      <td>908 W. Capital Way</td>\n",
              "      <td>Tacoma</td>\n",
              "      <td>USA</td>\n",
              "    </tr>\n",
              "    <tr>\n",
              "      <th>2</th>\n",
              "      <td>Leverling</td>\n",
              "      <td>Janet</td>\n",
              "      <td>Sales Representative</td>\n",
              "      <td>722 Moss Bay Blvd.</td>\n",
              "      <td>Kirkland</td>\n",
              "      <td>USA</td>\n",
              "    </tr>\n",
              "    <tr>\n",
              "      <th>3</th>\n",
              "      <td>Peacock</td>\n",
              "      <td>Margaret</td>\n",
              "      <td>Sales Representative</td>\n",
              "      <td>4110 Old Redmond Rd.</td>\n",
              "      <td>Redmond</td>\n",
              "      <td>USA</td>\n",
              "    </tr>\n",
              "    <tr>\n",
              "      <th>4</th>\n",
              "      <td>Buchanan</td>\n",
              "      <td>Steven</td>\n",
              "      <td>Sales Manager</td>\n",
              "      <td>14 Garrett Hill</td>\n",
              "      <td>London</td>\n",
              "      <td>UK</td>\n",
              "    </tr>\n",
              "  </tbody>\n",
              "</table>\n",
              "</div>\n",
              "      <button class=\"colab-df-convert\" onclick=\"convertToInteractive('df-f4ca763f-42fc-4935-a57e-a8bbb7046934')\"\n",
              "              title=\"Convert this dataframe to an interactive table.\"\n",
              "              style=\"display:none;\">\n",
              "        \n",
              "  <svg xmlns=\"http://www.w3.org/2000/svg\" height=\"24px\"viewBox=\"0 0 24 24\"\n",
              "       width=\"24px\">\n",
              "    <path d=\"M0 0h24v24H0V0z\" fill=\"none\"/>\n",
              "    <path d=\"M18.56 5.44l.94 2.06.94-2.06 2.06-.94-2.06-.94-.94-2.06-.94 2.06-2.06.94zm-11 1L8.5 8.5l.94-2.06 2.06-.94-2.06-.94L8.5 2.5l-.94 2.06-2.06.94zm10 10l.94 2.06.94-2.06 2.06-.94-2.06-.94-.94-2.06-.94 2.06-2.06.94z\"/><path d=\"M17.41 7.96l-1.37-1.37c-.4-.4-.92-.59-1.43-.59-.52 0-1.04.2-1.43.59L10.3 9.45l-7.72 7.72c-.78.78-.78 2.05 0 2.83L4 21.41c.39.39.9.59 1.41.59.51 0 1.02-.2 1.41-.59l7.78-7.78 2.81-2.81c.8-.78.8-2.07 0-2.86zM5.41 20L4 18.59l7.72-7.72 1.47 1.35L5.41 20z\"/>\n",
              "  </svg>\n",
              "      </button>\n",
              "      \n",
              "  <style>\n",
              "    .colab-df-container {\n",
              "      display:flex;\n",
              "      flex-wrap:wrap;\n",
              "      gap: 12px;\n",
              "    }\n",
              "\n",
              "    .colab-df-convert {\n",
              "      background-color: #E8F0FE;\n",
              "      border: none;\n",
              "      border-radius: 50%;\n",
              "      cursor: pointer;\n",
              "      display: none;\n",
              "      fill: #1967D2;\n",
              "      height: 32px;\n",
              "      padding: 0 0 0 0;\n",
              "      width: 32px;\n",
              "    }\n",
              "\n",
              "    .colab-df-convert:hover {\n",
              "      background-color: #E2EBFA;\n",
              "      box-shadow: 0px 1px 2px rgba(60, 64, 67, 0.3), 0px 1px 3px 1px rgba(60, 64, 67, 0.15);\n",
              "      fill: #174EA6;\n",
              "    }\n",
              "\n",
              "    [theme=dark] .colab-df-convert {\n",
              "      background-color: #3B4455;\n",
              "      fill: #D2E3FC;\n",
              "    }\n",
              "\n",
              "    [theme=dark] .colab-df-convert:hover {\n",
              "      background-color: #434B5C;\n",
              "      box-shadow: 0px 1px 3px 1px rgba(0, 0, 0, 0.15);\n",
              "      filter: drop-shadow(0px 1px 2px rgba(0, 0, 0, 0.3));\n",
              "      fill: #FFFFFF;\n",
              "    }\n",
              "  </style>\n",
              "\n",
              "      <script>\n",
              "        const buttonEl =\n",
              "          document.querySelector('#df-f4ca763f-42fc-4935-a57e-a8bbb7046934 button.colab-df-convert');\n",
              "        buttonEl.style.display =\n",
              "          google.colab.kernel.accessAllowed ? 'block' : 'none';\n",
              "\n",
              "        async function convertToInteractive(key) {\n",
              "          const element = document.querySelector('#df-f4ca763f-42fc-4935-a57e-a8bbb7046934');\n",
              "          const dataTable =\n",
              "            await google.colab.kernel.invokeFunction('convertToInteractive',\n",
              "                                                     [key], {});\n",
              "          if (!dataTable) return;\n",
              "\n",
              "          const docLinkHtml = 'Like what you see? Visit the ' +\n",
              "            '<a target=\"_blank\" href=https://colab.research.google.com/notebooks/data_table.ipynb>data table notebook</a>'\n",
              "            + ' to learn more about interactive tables.';\n",
              "          element.innerHTML = '';\n",
              "          dataTable['output_type'] = 'display_data';\n",
              "          await google.colab.output.renderOutput(dataTable, element);\n",
              "          const docLink = document.createElement('div');\n",
              "          docLink.innerHTML = docLinkHtml;\n",
              "          element.appendChild(docLink);\n",
              "        }\n",
              "      </script>\n",
              "    </div>\n",
              "  </div>\n",
              "  "
            ],
            "text/plain": [
              "  emp_LastName emp_FirstName  ...  emp_City emp_Country\n",
              "0      Davolio         Nancy  ...   Seattle         USA\n",
              "1       Fuller        Andrew  ...    Tacoma         USA\n",
              "2    Leverling         Janet  ...  Kirkland         USA\n",
              "3      Peacock      Margaret  ...   Redmond         USA\n",
              "4     Buchanan        Steven  ...    London          UK\n",
              "\n",
              "[5 rows x 6 columns]"
            ]
          },
          "metadata": {},
          "execution_count": 12
        }
      ]
    },
    {
      "cell_type": "markdown",
      "source": [
        "Extracción de datos para la dimension product "
      ],
      "metadata": {
        "id": "NN3cHVqf0DSU"
      }
    },
    {
      "cell_type": "code",
      "source": [
        "query = '''SELECT Product.ProductName,\n",
        "                  Category.CategoryName\n",
        "              FROM Product\n",
        "                  INNER JOIN\n",
        "                  Category ON Category.Id = Product.CategoryId;'''\n",
        "df_product = extraer_datos_sql(conectarDB,query)\n",
        "df_product.head()"
      ],
      "metadata": {
        "colab": {
          "base_uri": "https://localhost:8080/",
          "height": 206
        },
        "id": "gkxErJQs0DSU",
        "outputId": "d194d60e-9634-4793-db6a-fab50c5732f0"
      },
      "execution_count": 13,
      "outputs": [
        {
          "output_type": "execute_result",
          "data": {
            "text/html": [
              "\n",
              "  <div id=\"df-1bc98912-80be-42b3-ac6a-5b4cccab28ba\">\n",
              "    <div class=\"colab-df-container\">\n",
              "      <div>\n",
              "<style scoped>\n",
              "    .dataframe tbody tr th:only-of-type {\n",
              "        vertical-align: middle;\n",
              "    }\n",
              "\n",
              "    .dataframe tbody tr th {\n",
              "        vertical-align: top;\n",
              "    }\n",
              "\n",
              "    .dataframe thead th {\n",
              "        text-align: right;\n",
              "    }\n",
              "</style>\n",
              "<table border=\"1\" class=\"dataframe\">\n",
              "  <thead>\n",
              "    <tr style=\"text-align: right;\">\n",
              "      <th></th>\n",
              "      <th>ProductName</th>\n",
              "      <th>CategoryName</th>\n",
              "    </tr>\n",
              "  </thead>\n",
              "  <tbody>\n",
              "    <tr>\n",
              "      <th>0</th>\n",
              "      <td>Chai</td>\n",
              "      <td>Beverages</td>\n",
              "    </tr>\n",
              "    <tr>\n",
              "      <th>1</th>\n",
              "      <td>Chang</td>\n",
              "      <td>Beverages</td>\n",
              "    </tr>\n",
              "    <tr>\n",
              "      <th>2</th>\n",
              "      <td>Aniseed Syrup</td>\n",
              "      <td>Condiments</td>\n",
              "    </tr>\n",
              "    <tr>\n",
              "      <th>3</th>\n",
              "      <td>Chef Anton's Cajun Seasoning</td>\n",
              "      <td>Condiments</td>\n",
              "    </tr>\n",
              "    <tr>\n",
              "      <th>4</th>\n",
              "      <td>Chef Anton's Gumbo Mix</td>\n",
              "      <td>Condiments</td>\n",
              "    </tr>\n",
              "  </tbody>\n",
              "</table>\n",
              "</div>\n",
              "      <button class=\"colab-df-convert\" onclick=\"convertToInteractive('df-1bc98912-80be-42b3-ac6a-5b4cccab28ba')\"\n",
              "              title=\"Convert this dataframe to an interactive table.\"\n",
              "              style=\"display:none;\">\n",
              "        \n",
              "  <svg xmlns=\"http://www.w3.org/2000/svg\" height=\"24px\"viewBox=\"0 0 24 24\"\n",
              "       width=\"24px\">\n",
              "    <path d=\"M0 0h24v24H0V0z\" fill=\"none\"/>\n",
              "    <path d=\"M18.56 5.44l.94 2.06.94-2.06 2.06-.94-2.06-.94-.94-2.06-.94 2.06-2.06.94zm-11 1L8.5 8.5l.94-2.06 2.06-.94-2.06-.94L8.5 2.5l-.94 2.06-2.06.94zm10 10l.94 2.06.94-2.06 2.06-.94-2.06-.94-.94-2.06-.94 2.06-2.06.94z\"/><path d=\"M17.41 7.96l-1.37-1.37c-.4-.4-.92-.59-1.43-.59-.52 0-1.04.2-1.43.59L10.3 9.45l-7.72 7.72c-.78.78-.78 2.05 0 2.83L4 21.41c.39.39.9.59 1.41.59.51 0 1.02-.2 1.41-.59l7.78-7.78 2.81-2.81c.8-.78.8-2.07 0-2.86zM5.41 20L4 18.59l7.72-7.72 1.47 1.35L5.41 20z\"/>\n",
              "  </svg>\n",
              "      </button>\n",
              "      \n",
              "  <style>\n",
              "    .colab-df-container {\n",
              "      display:flex;\n",
              "      flex-wrap:wrap;\n",
              "      gap: 12px;\n",
              "    }\n",
              "\n",
              "    .colab-df-convert {\n",
              "      background-color: #E8F0FE;\n",
              "      border: none;\n",
              "      border-radius: 50%;\n",
              "      cursor: pointer;\n",
              "      display: none;\n",
              "      fill: #1967D2;\n",
              "      height: 32px;\n",
              "      padding: 0 0 0 0;\n",
              "      width: 32px;\n",
              "    }\n",
              "\n",
              "    .colab-df-convert:hover {\n",
              "      background-color: #E2EBFA;\n",
              "      box-shadow: 0px 1px 2px rgba(60, 64, 67, 0.3), 0px 1px 3px 1px rgba(60, 64, 67, 0.15);\n",
              "      fill: #174EA6;\n",
              "    }\n",
              "\n",
              "    [theme=dark] .colab-df-convert {\n",
              "      background-color: #3B4455;\n",
              "      fill: #D2E3FC;\n",
              "    }\n",
              "\n",
              "    [theme=dark] .colab-df-convert:hover {\n",
              "      background-color: #434B5C;\n",
              "      box-shadow: 0px 1px 3px 1px rgba(0, 0, 0, 0.15);\n",
              "      filter: drop-shadow(0px 1px 2px rgba(0, 0, 0, 0.3));\n",
              "      fill: #FFFFFF;\n",
              "    }\n",
              "  </style>\n",
              "\n",
              "      <script>\n",
              "        const buttonEl =\n",
              "          document.querySelector('#df-1bc98912-80be-42b3-ac6a-5b4cccab28ba button.colab-df-convert');\n",
              "        buttonEl.style.display =\n",
              "          google.colab.kernel.accessAllowed ? 'block' : 'none';\n",
              "\n",
              "        async function convertToInteractive(key) {\n",
              "          const element = document.querySelector('#df-1bc98912-80be-42b3-ac6a-5b4cccab28ba');\n",
              "          const dataTable =\n",
              "            await google.colab.kernel.invokeFunction('convertToInteractive',\n",
              "                                                     [key], {});\n",
              "          if (!dataTable) return;\n",
              "\n",
              "          const docLinkHtml = 'Like what you see? Visit the ' +\n",
              "            '<a target=\"_blank\" href=https://colab.research.google.com/notebooks/data_table.ipynb>data table notebook</a>'\n",
              "            + ' to learn more about interactive tables.';\n",
              "          element.innerHTML = '';\n",
              "          dataTable['output_type'] = 'display_data';\n",
              "          await google.colab.output.renderOutput(dataTable, element);\n",
              "          const docLink = document.createElement('div');\n",
              "          docLink.innerHTML = docLinkHtml;\n",
              "          element.appendChild(docLink);\n",
              "        }\n",
              "      </script>\n",
              "    </div>\n",
              "  </div>\n",
              "  "
            ],
            "text/plain": [
              "                    ProductName CategoryName\n",
              "0                          Chai    Beverages\n",
              "1                         Chang    Beverages\n",
              "2                 Aniseed Syrup   Condiments\n",
              "3  Chef Anton's Cajun Seasoning   Condiments\n",
              "4        Chef Anton's Gumbo Mix   Condiments"
            ]
          },
          "metadata": {},
          "execution_count": 13
        }
      ]
    },
    {
      "cell_type": "markdown",
      "source": [
        "Extracción de datos para la dimension Supplier "
      ],
      "metadata": {
        "id": "uSo5IhOy0DoF"
      }
    },
    {
      "cell_type": "code",
      "source": [
        "query = '''SELECT CompanyName AS sup_CompanyName,\n",
        "                  Address AS sup_Address,\n",
        "                  City AS sup_City,\n",
        "                  Country AS sup_Country\n",
        "              FROM Supplier;'''\n",
        "df_supplier = extraer_datos_sql(conectarDB,query)\n",
        "df_supplier.head()"
      ],
      "metadata": {
        "colab": {
          "base_uri": "https://localhost:8080/",
          "height": 206
        },
        "id": "uMR9anBW0DoG",
        "outputId": "98101a62-0ace-4b77-9d59-bd15390a5b97"
      },
      "execution_count": 14,
      "outputs": [
        {
          "output_type": "execute_result",
          "data": {
            "text/html": [
              "\n",
              "  <div id=\"df-80663c47-c5d2-4310-9c33-1c6b06495ac7\">\n",
              "    <div class=\"colab-df-container\">\n",
              "      <div>\n",
              "<style scoped>\n",
              "    .dataframe tbody tr th:only-of-type {\n",
              "        vertical-align: middle;\n",
              "    }\n",
              "\n",
              "    .dataframe tbody tr th {\n",
              "        vertical-align: top;\n",
              "    }\n",
              "\n",
              "    .dataframe thead th {\n",
              "        text-align: right;\n",
              "    }\n",
              "</style>\n",
              "<table border=\"1\" class=\"dataframe\">\n",
              "  <thead>\n",
              "    <tr style=\"text-align: right;\">\n",
              "      <th></th>\n",
              "      <th>sup_CompanyName</th>\n",
              "      <th>sup_Address</th>\n",
              "      <th>sup_City</th>\n",
              "      <th>sup_Country</th>\n",
              "    </tr>\n",
              "  </thead>\n",
              "  <tbody>\n",
              "    <tr>\n",
              "      <th>0</th>\n",
              "      <td>Exotic Liquids</td>\n",
              "      <td>49 Gilbert St.</td>\n",
              "      <td>London</td>\n",
              "      <td>UK</td>\n",
              "    </tr>\n",
              "    <tr>\n",
              "      <th>1</th>\n",
              "      <td>New Orleans Cajun Delights</td>\n",
              "      <td>P.O. Box 78934</td>\n",
              "      <td>New Orleans</td>\n",
              "      <td>USA</td>\n",
              "    </tr>\n",
              "    <tr>\n",
              "      <th>2</th>\n",
              "      <td>Grandma Kelly's Homestead</td>\n",
              "      <td>707 Oxford Rd.</td>\n",
              "      <td>Ann Arbor</td>\n",
              "      <td>USA</td>\n",
              "    </tr>\n",
              "    <tr>\n",
              "      <th>3</th>\n",
              "      <td>Tokyo Traders</td>\n",
              "      <td>9-8 Sekimai Musashino-shi</td>\n",
              "      <td>Tokyo</td>\n",
              "      <td>Japan</td>\n",
              "    </tr>\n",
              "    <tr>\n",
              "      <th>4</th>\n",
              "      <td>Cooperativa de Quesos 'Las Cabras'</td>\n",
              "      <td>Calle del Rosal 4</td>\n",
              "      <td>Oviedo</td>\n",
              "      <td>Spain</td>\n",
              "    </tr>\n",
              "  </tbody>\n",
              "</table>\n",
              "</div>\n",
              "      <button class=\"colab-df-convert\" onclick=\"convertToInteractive('df-80663c47-c5d2-4310-9c33-1c6b06495ac7')\"\n",
              "              title=\"Convert this dataframe to an interactive table.\"\n",
              "              style=\"display:none;\">\n",
              "        \n",
              "  <svg xmlns=\"http://www.w3.org/2000/svg\" height=\"24px\"viewBox=\"0 0 24 24\"\n",
              "       width=\"24px\">\n",
              "    <path d=\"M0 0h24v24H0V0z\" fill=\"none\"/>\n",
              "    <path d=\"M18.56 5.44l.94 2.06.94-2.06 2.06-.94-2.06-.94-.94-2.06-.94 2.06-2.06.94zm-11 1L8.5 8.5l.94-2.06 2.06-.94-2.06-.94L8.5 2.5l-.94 2.06-2.06.94zm10 10l.94 2.06.94-2.06 2.06-.94-2.06-.94-.94-2.06-.94 2.06-2.06.94z\"/><path d=\"M17.41 7.96l-1.37-1.37c-.4-.4-.92-.59-1.43-.59-.52 0-1.04.2-1.43.59L10.3 9.45l-7.72 7.72c-.78.78-.78 2.05 0 2.83L4 21.41c.39.39.9.59 1.41.59.51 0 1.02-.2 1.41-.59l7.78-7.78 2.81-2.81c.8-.78.8-2.07 0-2.86zM5.41 20L4 18.59l7.72-7.72 1.47 1.35L5.41 20z\"/>\n",
              "  </svg>\n",
              "      </button>\n",
              "      \n",
              "  <style>\n",
              "    .colab-df-container {\n",
              "      display:flex;\n",
              "      flex-wrap:wrap;\n",
              "      gap: 12px;\n",
              "    }\n",
              "\n",
              "    .colab-df-convert {\n",
              "      background-color: #E8F0FE;\n",
              "      border: none;\n",
              "      border-radius: 50%;\n",
              "      cursor: pointer;\n",
              "      display: none;\n",
              "      fill: #1967D2;\n",
              "      height: 32px;\n",
              "      padding: 0 0 0 0;\n",
              "      width: 32px;\n",
              "    }\n",
              "\n",
              "    .colab-df-convert:hover {\n",
              "      background-color: #E2EBFA;\n",
              "      box-shadow: 0px 1px 2px rgba(60, 64, 67, 0.3), 0px 1px 3px 1px rgba(60, 64, 67, 0.15);\n",
              "      fill: #174EA6;\n",
              "    }\n",
              "\n",
              "    [theme=dark] .colab-df-convert {\n",
              "      background-color: #3B4455;\n",
              "      fill: #D2E3FC;\n",
              "    }\n",
              "\n",
              "    [theme=dark] .colab-df-convert:hover {\n",
              "      background-color: #434B5C;\n",
              "      box-shadow: 0px 1px 3px 1px rgba(0, 0, 0, 0.15);\n",
              "      filter: drop-shadow(0px 1px 2px rgba(0, 0, 0, 0.3));\n",
              "      fill: #FFFFFF;\n",
              "    }\n",
              "  </style>\n",
              "\n",
              "      <script>\n",
              "        const buttonEl =\n",
              "          document.querySelector('#df-80663c47-c5d2-4310-9c33-1c6b06495ac7 button.colab-df-convert');\n",
              "        buttonEl.style.display =\n",
              "          google.colab.kernel.accessAllowed ? 'block' : 'none';\n",
              "\n",
              "        async function convertToInteractive(key) {\n",
              "          const element = document.querySelector('#df-80663c47-c5d2-4310-9c33-1c6b06495ac7');\n",
              "          const dataTable =\n",
              "            await google.colab.kernel.invokeFunction('convertToInteractive',\n",
              "                                                     [key], {});\n",
              "          if (!dataTable) return;\n",
              "\n",
              "          const docLinkHtml = 'Like what you see? Visit the ' +\n",
              "            '<a target=\"_blank\" href=https://colab.research.google.com/notebooks/data_table.ipynb>data table notebook</a>'\n",
              "            + ' to learn more about interactive tables.';\n",
              "          element.innerHTML = '';\n",
              "          dataTable['output_type'] = 'display_data';\n",
              "          await google.colab.output.renderOutput(dataTable, element);\n",
              "          const docLink = document.createElement('div');\n",
              "          docLink.innerHTML = docLinkHtml;\n",
              "          element.appendChild(docLink);\n",
              "        }\n",
              "      </script>\n",
              "    </div>\n",
              "  </div>\n",
              "  "
            ],
            "text/plain": [
              "                      sup_CompanyName  ... sup_Country\n",
              "0                      Exotic Liquids  ...          UK\n",
              "1          New Orleans Cajun Delights  ...         USA\n",
              "2           Grandma Kelly's Homestead  ...         USA\n",
              "3                       Tokyo Traders  ...       Japan\n",
              "4  Cooperativa de Quesos 'Las Cabras'  ...       Spain\n",
              "\n",
              "[5 rows x 4 columns]"
            ]
          },
          "metadata": {},
          "execution_count": 14
        }
      ]
    },
    {
      "cell_type": "markdown",
      "source": [
        "Extracción de datos para la dimension Time "
      ],
      "metadata": {
        "id": "1QK33f2d0D21"
      }
    },
    {
      "cell_type": "code",
      "source": [
        "date = pd.date_range('2006-02-19','2012-07-30',freq='D').to_series()\n",
        "dates = pd.to_datetime(date) \n",
        "day = dates.dt.day\n",
        "month = dates.dt.month\n",
        "year = dates.dt.year\n",
        "quarter = dates.dt.quarter\n",
        "week = dates.dt.week\n",
        "weekday = dates.dt.weekday\n",
        "day_name = dates.dt.day_name()\n",
        "month_name = dates.dt.month_name()\n",
        "    \n",
        "df_date = pd.DataFrame({'Date':list(dates),'Day':list(day),'Month':list(month),'Year':list(year),\n",
        "                        'Quarter':list(quarter),'Week':list(week),'Weekday':list(weekday),\n",
        "                        'Name_Day':list(day_name),'Name_Month':list(month_name)})\n",
        "df_date.head()"
      ],
      "metadata": {
        "colab": {
          "base_uri": "https://localhost:8080/",
          "height": 263
        },
        "id": "UELrNdrC0D21",
        "outputId": "3e164ab9-4cfa-4e3f-9430-b37f93046952"
      },
      "execution_count": 15,
      "outputs": [
        {
          "output_type": "stream",
          "name": "stderr",
          "text": [
            "/usr/local/lib/python3.7/dist-packages/ipykernel_launcher.py:7: FutureWarning: Series.dt.weekofyear and Series.dt.week have been deprecated.  Please use Series.dt.isocalendar().week instead.\n",
            "  import sys\n"
          ]
        },
        {
          "output_type": "execute_result",
          "data": {
            "text/html": [
              "\n",
              "  <div id=\"df-eea8cafc-6346-4507-9066-60c4aa8f6c6c\">\n",
              "    <div class=\"colab-df-container\">\n",
              "      <div>\n",
              "<style scoped>\n",
              "    .dataframe tbody tr th:only-of-type {\n",
              "        vertical-align: middle;\n",
              "    }\n",
              "\n",
              "    .dataframe tbody tr th {\n",
              "        vertical-align: top;\n",
              "    }\n",
              "\n",
              "    .dataframe thead th {\n",
              "        text-align: right;\n",
              "    }\n",
              "</style>\n",
              "<table border=\"1\" class=\"dataframe\">\n",
              "  <thead>\n",
              "    <tr style=\"text-align: right;\">\n",
              "      <th></th>\n",
              "      <th>Date</th>\n",
              "      <th>Day</th>\n",
              "      <th>Month</th>\n",
              "      <th>Year</th>\n",
              "      <th>Quarter</th>\n",
              "      <th>Week</th>\n",
              "      <th>Weekday</th>\n",
              "      <th>Name_Day</th>\n",
              "      <th>Name_Month</th>\n",
              "    </tr>\n",
              "  </thead>\n",
              "  <tbody>\n",
              "    <tr>\n",
              "      <th>0</th>\n",
              "      <td>2006-02-19</td>\n",
              "      <td>19</td>\n",
              "      <td>2</td>\n",
              "      <td>2006</td>\n",
              "      <td>1</td>\n",
              "      <td>7</td>\n",
              "      <td>6</td>\n",
              "      <td>Sunday</td>\n",
              "      <td>February</td>\n",
              "    </tr>\n",
              "    <tr>\n",
              "      <th>1</th>\n",
              "      <td>2006-02-20</td>\n",
              "      <td>20</td>\n",
              "      <td>2</td>\n",
              "      <td>2006</td>\n",
              "      <td>1</td>\n",
              "      <td>8</td>\n",
              "      <td>0</td>\n",
              "      <td>Monday</td>\n",
              "      <td>February</td>\n",
              "    </tr>\n",
              "    <tr>\n",
              "      <th>2</th>\n",
              "      <td>2006-02-21</td>\n",
              "      <td>21</td>\n",
              "      <td>2</td>\n",
              "      <td>2006</td>\n",
              "      <td>1</td>\n",
              "      <td>8</td>\n",
              "      <td>1</td>\n",
              "      <td>Tuesday</td>\n",
              "      <td>February</td>\n",
              "    </tr>\n",
              "    <tr>\n",
              "      <th>3</th>\n",
              "      <td>2006-02-22</td>\n",
              "      <td>22</td>\n",
              "      <td>2</td>\n",
              "      <td>2006</td>\n",
              "      <td>1</td>\n",
              "      <td>8</td>\n",
              "      <td>2</td>\n",
              "      <td>Wednesday</td>\n",
              "      <td>February</td>\n",
              "    </tr>\n",
              "    <tr>\n",
              "      <th>4</th>\n",
              "      <td>2006-02-23</td>\n",
              "      <td>23</td>\n",
              "      <td>2</td>\n",
              "      <td>2006</td>\n",
              "      <td>1</td>\n",
              "      <td>8</td>\n",
              "      <td>3</td>\n",
              "      <td>Thursday</td>\n",
              "      <td>February</td>\n",
              "    </tr>\n",
              "  </tbody>\n",
              "</table>\n",
              "</div>\n",
              "      <button class=\"colab-df-convert\" onclick=\"convertToInteractive('df-eea8cafc-6346-4507-9066-60c4aa8f6c6c')\"\n",
              "              title=\"Convert this dataframe to an interactive table.\"\n",
              "              style=\"display:none;\">\n",
              "        \n",
              "  <svg xmlns=\"http://www.w3.org/2000/svg\" height=\"24px\"viewBox=\"0 0 24 24\"\n",
              "       width=\"24px\">\n",
              "    <path d=\"M0 0h24v24H0V0z\" fill=\"none\"/>\n",
              "    <path d=\"M18.56 5.44l.94 2.06.94-2.06 2.06-.94-2.06-.94-.94-2.06-.94 2.06-2.06.94zm-11 1L8.5 8.5l.94-2.06 2.06-.94-2.06-.94L8.5 2.5l-.94 2.06-2.06.94zm10 10l.94 2.06.94-2.06 2.06-.94-2.06-.94-.94-2.06-.94 2.06-2.06.94z\"/><path d=\"M17.41 7.96l-1.37-1.37c-.4-.4-.92-.59-1.43-.59-.52 0-1.04.2-1.43.59L10.3 9.45l-7.72 7.72c-.78.78-.78 2.05 0 2.83L4 21.41c.39.39.9.59 1.41.59.51 0 1.02-.2 1.41-.59l7.78-7.78 2.81-2.81c.8-.78.8-2.07 0-2.86zM5.41 20L4 18.59l7.72-7.72 1.47 1.35L5.41 20z\"/>\n",
              "  </svg>\n",
              "      </button>\n",
              "      \n",
              "  <style>\n",
              "    .colab-df-container {\n",
              "      display:flex;\n",
              "      flex-wrap:wrap;\n",
              "      gap: 12px;\n",
              "    }\n",
              "\n",
              "    .colab-df-convert {\n",
              "      background-color: #E8F0FE;\n",
              "      border: none;\n",
              "      border-radius: 50%;\n",
              "      cursor: pointer;\n",
              "      display: none;\n",
              "      fill: #1967D2;\n",
              "      height: 32px;\n",
              "      padding: 0 0 0 0;\n",
              "      width: 32px;\n",
              "    }\n",
              "\n",
              "    .colab-df-convert:hover {\n",
              "      background-color: #E2EBFA;\n",
              "      box-shadow: 0px 1px 2px rgba(60, 64, 67, 0.3), 0px 1px 3px 1px rgba(60, 64, 67, 0.15);\n",
              "      fill: #174EA6;\n",
              "    }\n",
              "\n",
              "    [theme=dark] .colab-df-convert {\n",
              "      background-color: #3B4455;\n",
              "      fill: #D2E3FC;\n",
              "    }\n",
              "\n",
              "    [theme=dark] .colab-df-convert:hover {\n",
              "      background-color: #434B5C;\n",
              "      box-shadow: 0px 1px 3px 1px rgba(0, 0, 0, 0.15);\n",
              "      filter: drop-shadow(0px 1px 2px rgba(0, 0, 0, 0.3));\n",
              "      fill: #FFFFFF;\n",
              "    }\n",
              "  </style>\n",
              "\n",
              "      <script>\n",
              "        const buttonEl =\n",
              "          document.querySelector('#df-eea8cafc-6346-4507-9066-60c4aa8f6c6c button.colab-df-convert');\n",
              "        buttonEl.style.display =\n",
              "          google.colab.kernel.accessAllowed ? 'block' : 'none';\n",
              "\n",
              "        async function convertToInteractive(key) {\n",
              "          const element = document.querySelector('#df-eea8cafc-6346-4507-9066-60c4aa8f6c6c');\n",
              "          const dataTable =\n",
              "            await google.colab.kernel.invokeFunction('convertToInteractive',\n",
              "                                                     [key], {});\n",
              "          if (!dataTable) return;\n",
              "\n",
              "          const docLinkHtml = 'Like what you see? Visit the ' +\n",
              "            '<a target=\"_blank\" href=https://colab.research.google.com/notebooks/data_table.ipynb>data table notebook</a>'\n",
              "            + ' to learn more about interactive tables.';\n",
              "          element.innerHTML = '';\n",
              "          dataTable['output_type'] = 'display_data';\n",
              "          await google.colab.output.renderOutput(dataTable, element);\n",
              "          const docLink = document.createElement('div');\n",
              "          docLink.innerHTML = docLinkHtml;\n",
              "          element.appendChild(docLink);\n",
              "        }\n",
              "      </script>\n",
              "    </div>\n",
              "  </div>\n",
              "  "
            ],
            "text/plain": [
              "        Date  Day  Month  Year  Quarter  Week  Weekday   Name_Day Name_Month\n",
              "0 2006-02-19   19      2  2006        1     7        6     Sunday   February\n",
              "1 2006-02-20   20      2  2006        1     8        0     Monday   February\n",
              "2 2006-02-21   21      2  2006        1     8        1    Tuesday   February\n",
              "3 2006-02-22   22      2  2006        1     8        2  Wednesday   February\n",
              "4 2006-02-23   23      2  2006        1     8        3   Thursday   February"
            ]
          },
          "metadata": {},
          "execution_count": 15
        }
      ]
    },
    {
      "cell_type": "markdown",
      "source": [
        "Extracción de datos para la tabla de hechos"
      ],
      "metadata": {
        "id": "H2mXXGxX1W3C"
      }
    },
    {
      "cell_type": "code",
      "source": [
        "query = '''SELECT C.Id AS Id_custumer,\n",
        "                  E.Id AS Id_employee,\n",
        "                  D.Id AS Id_time,\n",
        "                  S.Id AS Id_supplier,\n",
        "                  P.Id AS Id_produc,\n",
        "                  O.Quantity,\n",
        "                  O.UnitPrice,\n",
        "                  (O.Quantity * O.UnitPrice) AS Total\n",
        "              FROM Orders D\n",
        "                  INNER JOIN\n",
        "                  OrderDetail O ON O.OrderId = D.Id\n",
        "                  INNER JOIN\n",
        "                  Customer C ON C.Id = D.CustomerId\n",
        "                  INNER JOIN\n",
        "                  Employee E ON E.Id = D.EmployeeId\n",
        "                  INNER JOIN\n",
        "                  Product P ON P.Id = O.ProductId\n",
        "                  INNER JOIN\n",
        "                  Supplier S ON S.Id = P.SupplierId;'''\n",
        "df_hechos = extraer_datos_sql(conectarDB,query)\n",
        "df_hechos.head()"
      ],
      "metadata": {
        "colab": {
          "base_uri": "https://localhost:8080/",
          "height": 206
        },
        "id": "CA1o8gXY1W3D",
        "outputId": "d4b3ff45-5e4f-4574-a693-bdcebbad73a8"
      },
      "execution_count": 16,
      "outputs": [
        {
          "output_type": "execute_result",
          "data": {
            "text/html": [
              "\n",
              "  <div id=\"df-1b40c083-c91e-4143-9360-5cc6bce75f01\">\n",
              "    <div class=\"colab-df-container\">\n",
              "      <div>\n",
              "<style scoped>\n",
              "    .dataframe tbody tr th:only-of-type {\n",
              "        vertical-align: middle;\n",
              "    }\n",
              "\n",
              "    .dataframe tbody tr th {\n",
              "        vertical-align: top;\n",
              "    }\n",
              "\n",
              "    .dataframe thead th {\n",
              "        text-align: right;\n",
              "    }\n",
              "</style>\n",
              "<table border=\"1\" class=\"dataframe\">\n",
              "  <thead>\n",
              "    <tr style=\"text-align: right;\">\n",
              "      <th></th>\n",
              "      <th>Id_custumer</th>\n",
              "      <th>Id_employee</th>\n",
              "      <th>Id_time</th>\n",
              "      <th>Id_supplier</th>\n",
              "      <th>Id_produc</th>\n",
              "      <th>Quantity</th>\n",
              "      <th>UnitPrice</th>\n",
              "      <th>Total</th>\n",
              "    </tr>\n",
              "  </thead>\n",
              "  <tbody>\n",
              "    <tr>\n",
              "      <th>0</th>\n",
              "      <td>VINET</td>\n",
              "      <td>5</td>\n",
              "      <td>10248</td>\n",
              "      <td>5</td>\n",
              "      <td>11</td>\n",
              "      <td>12</td>\n",
              "      <td>14.0</td>\n",
              "      <td>168.0</td>\n",
              "    </tr>\n",
              "    <tr>\n",
              "      <th>1</th>\n",
              "      <td>VINET</td>\n",
              "      <td>5</td>\n",
              "      <td>10248</td>\n",
              "      <td>20</td>\n",
              "      <td>42</td>\n",
              "      <td>10</td>\n",
              "      <td>9.8</td>\n",
              "      <td>98.0</td>\n",
              "    </tr>\n",
              "    <tr>\n",
              "      <th>2</th>\n",
              "      <td>VINET</td>\n",
              "      <td>5</td>\n",
              "      <td>10248</td>\n",
              "      <td>14</td>\n",
              "      <td>72</td>\n",
              "      <td>5</td>\n",
              "      <td>34.8</td>\n",
              "      <td>174.0</td>\n",
              "    </tr>\n",
              "    <tr>\n",
              "      <th>3</th>\n",
              "      <td>TOMSP</td>\n",
              "      <td>6</td>\n",
              "      <td>10249</td>\n",
              "      <td>6</td>\n",
              "      <td>14</td>\n",
              "      <td>9</td>\n",
              "      <td>18.6</td>\n",
              "      <td>167.4</td>\n",
              "    </tr>\n",
              "    <tr>\n",
              "      <th>4</th>\n",
              "      <td>TOMSP</td>\n",
              "      <td>6</td>\n",
              "      <td>10249</td>\n",
              "      <td>24</td>\n",
              "      <td>51</td>\n",
              "      <td>40</td>\n",
              "      <td>42.4</td>\n",
              "      <td>1696.0</td>\n",
              "    </tr>\n",
              "  </tbody>\n",
              "</table>\n",
              "</div>\n",
              "      <button class=\"colab-df-convert\" onclick=\"convertToInteractive('df-1b40c083-c91e-4143-9360-5cc6bce75f01')\"\n",
              "              title=\"Convert this dataframe to an interactive table.\"\n",
              "              style=\"display:none;\">\n",
              "        \n",
              "  <svg xmlns=\"http://www.w3.org/2000/svg\" height=\"24px\"viewBox=\"0 0 24 24\"\n",
              "       width=\"24px\">\n",
              "    <path d=\"M0 0h24v24H0V0z\" fill=\"none\"/>\n",
              "    <path d=\"M18.56 5.44l.94 2.06.94-2.06 2.06-.94-2.06-.94-.94-2.06-.94 2.06-2.06.94zm-11 1L8.5 8.5l.94-2.06 2.06-.94-2.06-.94L8.5 2.5l-.94 2.06-2.06.94zm10 10l.94 2.06.94-2.06 2.06-.94-2.06-.94-.94-2.06-.94 2.06-2.06.94z\"/><path d=\"M17.41 7.96l-1.37-1.37c-.4-.4-.92-.59-1.43-.59-.52 0-1.04.2-1.43.59L10.3 9.45l-7.72 7.72c-.78.78-.78 2.05 0 2.83L4 21.41c.39.39.9.59 1.41.59.51 0 1.02-.2 1.41-.59l7.78-7.78 2.81-2.81c.8-.78.8-2.07 0-2.86zM5.41 20L4 18.59l7.72-7.72 1.47 1.35L5.41 20z\"/>\n",
              "  </svg>\n",
              "      </button>\n",
              "      \n",
              "  <style>\n",
              "    .colab-df-container {\n",
              "      display:flex;\n",
              "      flex-wrap:wrap;\n",
              "      gap: 12px;\n",
              "    }\n",
              "\n",
              "    .colab-df-convert {\n",
              "      background-color: #E8F0FE;\n",
              "      border: none;\n",
              "      border-radius: 50%;\n",
              "      cursor: pointer;\n",
              "      display: none;\n",
              "      fill: #1967D2;\n",
              "      height: 32px;\n",
              "      padding: 0 0 0 0;\n",
              "      width: 32px;\n",
              "    }\n",
              "\n",
              "    .colab-df-convert:hover {\n",
              "      background-color: #E2EBFA;\n",
              "      box-shadow: 0px 1px 2px rgba(60, 64, 67, 0.3), 0px 1px 3px 1px rgba(60, 64, 67, 0.15);\n",
              "      fill: #174EA6;\n",
              "    }\n",
              "\n",
              "    [theme=dark] .colab-df-convert {\n",
              "      background-color: #3B4455;\n",
              "      fill: #D2E3FC;\n",
              "    }\n",
              "\n",
              "    [theme=dark] .colab-df-convert:hover {\n",
              "      background-color: #434B5C;\n",
              "      box-shadow: 0px 1px 3px 1px rgba(0, 0, 0, 0.15);\n",
              "      filter: drop-shadow(0px 1px 2px rgba(0, 0, 0, 0.3));\n",
              "      fill: #FFFFFF;\n",
              "    }\n",
              "  </style>\n",
              "\n",
              "      <script>\n",
              "        const buttonEl =\n",
              "          document.querySelector('#df-1b40c083-c91e-4143-9360-5cc6bce75f01 button.colab-df-convert');\n",
              "        buttonEl.style.display =\n",
              "          google.colab.kernel.accessAllowed ? 'block' : 'none';\n",
              "\n",
              "        async function convertToInteractive(key) {\n",
              "          const element = document.querySelector('#df-1b40c083-c91e-4143-9360-5cc6bce75f01');\n",
              "          const dataTable =\n",
              "            await google.colab.kernel.invokeFunction('convertToInteractive',\n",
              "                                                     [key], {});\n",
              "          if (!dataTable) return;\n",
              "\n",
              "          const docLinkHtml = 'Like what you see? Visit the ' +\n",
              "            '<a target=\"_blank\" href=https://colab.research.google.com/notebooks/data_table.ipynb>data table notebook</a>'\n",
              "            + ' to learn more about interactive tables.';\n",
              "          element.innerHTML = '';\n",
              "          dataTable['output_type'] = 'display_data';\n",
              "          await google.colab.output.renderOutput(dataTable, element);\n",
              "          const docLink = document.createElement('div');\n",
              "          docLink.innerHTML = docLinkHtml;\n",
              "          element.appendChild(docLink);\n",
              "        }\n",
              "      </script>\n",
              "    </div>\n",
              "  </div>\n",
              "  "
            ],
            "text/plain": [
              "  Id_custumer  Id_employee  Id_time  ...  Quantity  UnitPrice   Total\n",
              "0       VINET            5    10248  ...        12       14.0   168.0\n",
              "1       VINET            5    10248  ...        10        9.8    98.0\n",
              "2       VINET            5    10248  ...         5       34.8   174.0\n",
              "3       TOMSP            6    10249  ...         9       18.6   167.4\n",
              "4       TOMSP            6    10249  ...        40       42.4  1696.0\n",
              "\n",
              "[5 rows x 8 columns]"
            ]
          },
          "metadata": {},
          "execution_count": 16
        }
      ]
    },
    {
      "cell_type": "markdown",
      "source": [
        "# **TRANSFORMACIÓN**\n",
        "\n",
        "---\n",
        "\n"
      ],
      "metadata": {
        "id": "XdtGVZAJ22Fj"
      }
    },
    {
      "cell_type": "markdown",
      "source": [
        "Transformación de custumer"
      ],
      "metadata": {
        "id": "yWJzf2Qi282r"
      }
    },
    {
      "cell_type": "code",
      "source": [
        "df_custumer['cus_Country']= df_custumer['cus_Country'].replace('UK','United Kingdom')\n",
        "df_custumer['cus_Country']= df_custumer['cus_Country'].str.upper()\n",
        "df_custumer['cus_Address']= df_custumer['cus_Address'].str.upper()\n",
        "df_custumer['cus_City']= df_custumer['cus_City'].str.upper()\n",
        "\n",
        "df_custumer.head(10)"
      ],
      "metadata": {
        "colab": {
          "base_uri": "https://localhost:8080/",
          "height": 363
        },
        "id": "6DCBufXQ3B7e",
        "outputId": "cf0d81f4-1c21-4683-a52d-230a62c30628"
      },
      "execution_count": 17,
      "outputs": [
        {
          "output_type": "execute_result",
          "data": {
            "text/html": [
              "\n",
              "  <div id=\"df-76d030f6-676d-4adb-b757-f68a32b0cfb3\">\n",
              "    <div class=\"colab-df-container\">\n",
              "      <div>\n",
              "<style scoped>\n",
              "    .dataframe tbody tr th:only-of-type {\n",
              "        vertical-align: middle;\n",
              "    }\n",
              "\n",
              "    .dataframe tbody tr th {\n",
              "        vertical-align: top;\n",
              "    }\n",
              "\n",
              "    .dataframe thead th {\n",
              "        text-align: right;\n",
              "    }\n",
              "</style>\n",
              "<table border=\"1\" class=\"dataframe\">\n",
              "  <thead>\n",
              "    <tr style=\"text-align: right;\">\n",
              "      <th></th>\n",
              "      <th>Id_custumer</th>\n",
              "      <th>cus_Address</th>\n",
              "      <th>cus_City</th>\n",
              "      <th>cus_Country</th>\n",
              "      <th>cus_Phone</th>\n",
              "    </tr>\n",
              "  </thead>\n",
              "  <tbody>\n",
              "    <tr>\n",
              "      <th>0</th>\n",
              "      <td>ALFKI</td>\n",
              "      <td>OBERE STR. 57</td>\n",
              "      <td>BERLIN</td>\n",
              "      <td>GERMANY</td>\n",
              "      <td>030-0074321</td>\n",
              "    </tr>\n",
              "    <tr>\n",
              "      <th>1</th>\n",
              "      <td>ANATR</td>\n",
              "      <td>AVDA. DE LA CONSTITUCIÓN 2222</td>\n",
              "      <td>MÉXICO D.F.</td>\n",
              "      <td>MEXICO</td>\n",
              "      <td>(5) 555-4729</td>\n",
              "    </tr>\n",
              "    <tr>\n",
              "      <th>2</th>\n",
              "      <td>ANTON</td>\n",
              "      <td>MATADEROS  2312</td>\n",
              "      <td>MÉXICO D.F.</td>\n",
              "      <td>MEXICO</td>\n",
              "      <td>(5) 555-3932</td>\n",
              "    </tr>\n",
              "    <tr>\n",
              "      <th>3</th>\n",
              "      <td>AROUT</td>\n",
              "      <td>120 HANOVER SQ.</td>\n",
              "      <td>LONDON</td>\n",
              "      <td>UNITED KINGDOM</td>\n",
              "      <td>(171) 555-7788</td>\n",
              "    </tr>\n",
              "    <tr>\n",
              "      <th>4</th>\n",
              "      <td>BERGS</td>\n",
              "      <td>BERGUVSVÄGEN  8</td>\n",
              "      <td>LULEÅ</td>\n",
              "      <td>SWEDEN</td>\n",
              "      <td>0921-12 34 65</td>\n",
              "    </tr>\n",
              "    <tr>\n",
              "      <th>5</th>\n",
              "      <td>BLAUS</td>\n",
              "      <td>FORSTERSTR. 57</td>\n",
              "      <td>MANNHEIM</td>\n",
              "      <td>GERMANY</td>\n",
              "      <td>0621-08460</td>\n",
              "    </tr>\n",
              "    <tr>\n",
              "      <th>6</th>\n",
              "      <td>BLONP</td>\n",
              "      <td>24, PLACE KLÉBER</td>\n",
              "      <td>STRASBOURG</td>\n",
              "      <td>FRANCE</td>\n",
              "      <td>88.60.15.31</td>\n",
              "    </tr>\n",
              "    <tr>\n",
              "      <th>7</th>\n",
              "      <td>BOLID</td>\n",
              "      <td>C/ ARAQUIL, 67</td>\n",
              "      <td>MADRID</td>\n",
              "      <td>SPAIN</td>\n",
              "      <td>(91) 555 22 82</td>\n",
              "    </tr>\n",
              "    <tr>\n",
              "      <th>8</th>\n",
              "      <td>BONAP</td>\n",
              "      <td>12, RUE DES BOUCHERS</td>\n",
              "      <td>MARSEILLE</td>\n",
              "      <td>FRANCE</td>\n",
              "      <td>91.24.45.40</td>\n",
              "    </tr>\n",
              "    <tr>\n",
              "      <th>9</th>\n",
              "      <td>BOTTM</td>\n",
              "      <td>23 TSAWASSEN BLVD.</td>\n",
              "      <td>TSAWASSEN</td>\n",
              "      <td>CANADA</td>\n",
              "      <td>(604) 555-4729</td>\n",
              "    </tr>\n",
              "  </tbody>\n",
              "</table>\n",
              "</div>\n",
              "      <button class=\"colab-df-convert\" onclick=\"convertToInteractive('df-76d030f6-676d-4adb-b757-f68a32b0cfb3')\"\n",
              "              title=\"Convert this dataframe to an interactive table.\"\n",
              "              style=\"display:none;\">\n",
              "        \n",
              "  <svg xmlns=\"http://www.w3.org/2000/svg\" height=\"24px\"viewBox=\"0 0 24 24\"\n",
              "       width=\"24px\">\n",
              "    <path d=\"M0 0h24v24H0V0z\" fill=\"none\"/>\n",
              "    <path d=\"M18.56 5.44l.94 2.06.94-2.06 2.06-.94-2.06-.94-.94-2.06-.94 2.06-2.06.94zm-11 1L8.5 8.5l.94-2.06 2.06-.94-2.06-.94L8.5 2.5l-.94 2.06-2.06.94zm10 10l.94 2.06.94-2.06 2.06-.94-2.06-.94-.94-2.06-.94 2.06-2.06.94z\"/><path d=\"M17.41 7.96l-1.37-1.37c-.4-.4-.92-.59-1.43-.59-.52 0-1.04.2-1.43.59L10.3 9.45l-7.72 7.72c-.78.78-.78 2.05 0 2.83L4 21.41c.39.39.9.59 1.41.59.51 0 1.02-.2 1.41-.59l7.78-7.78 2.81-2.81c.8-.78.8-2.07 0-2.86zM5.41 20L4 18.59l7.72-7.72 1.47 1.35L5.41 20z\"/>\n",
              "  </svg>\n",
              "      </button>\n",
              "      \n",
              "  <style>\n",
              "    .colab-df-container {\n",
              "      display:flex;\n",
              "      flex-wrap:wrap;\n",
              "      gap: 12px;\n",
              "    }\n",
              "\n",
              "    .colab-df-convert {\n",
              "      background-color: #E8F0FE;\n",
              "      border: none;\n",
              "      border-radius: 50%;\n",
              "      cursor: pointer;\n",
              "      display: none;\n",
              "      fill: #1967D2;\n",
              "      height: 32px;\n",
              "      padding: 0 0 0 0;\n",
              "      width: 32px;\n",
              "    }\n",
              "\n",
              "    .colab-df-convert:hover {\n",
              "      background-color: #E2EBFA;\n",
              "      box-shadow: 0px 1px 2px rgba(60, 64, 67, 0.3), 0px 1px 3px 1px rgba(60, 64, 67, 0.15);\n",
              "      fill: #174EA6;\n",
              "    }\n",
              "\n",
              "    [theme=dark] .colab-df-convert {\n",
              "      background-color: #3B4455;\n",
              "      fill: #D2E3FC;\n",
              "    }\n",
              "\n",
              "    [theme=dark] .colab-df-convert:hover {\n",
              "      background-color: #434B5C;\n",
              "      box-shadow: 0px 1px 3px 1px rgba(0, 0, 0, 0.15);\n",
              "      filter: drop-shadow(0px 1px 2px rgba(0, 0, 0, 0.3));\n",
              "      fill: #FFFFFF;\n",
              "    }\n",
              "  </style>\n",
              "\n",
              "      <script>\n",
              "        const buttonEl =\n",
              "          document.querySelector('#df-76d030f6-676d-4adb-b757-f68a32b0cfb3 button.colab-df-convert');\n",
              "        buttonEl.style.display =\n",
              "          google.colab.kernel.accessAllowed ? 'block' : 'none';\n",
              "\n",
              "        async function convertToInteractive(key) {\n",
              "          const element = document.querySelector('#df-76d030f6-676d-4adb-b757-f68a32b0cfb3');\n",
              "          const dataTable =\n",
              "            await google.colab.kernel.invokeFunction('convertToInteractive',\n",
              "                                                     [key], {});\n",
              "          if (!dataTable) return;\n",
              "\n",
              "          const docLinkHtml = 'Like what you see? Visit the ' +\n",
              "            '<a target=\"_blank\" href=https://colab.research.google.com/notebooks/data_table.ipynb>data table notebook</a>'\n",
              "            + ' to learn more about interactive tables.';\n",
              "          element.innerHTML = '';\n",
              "          dataTable['output_type'] = 'display_data';\n",
              "          await google.colab.output.renderOutput(dataTable, element);\n",
              "          const docLink = document.createElement('div');\n",
              "          docLink.innerHTML = docLinkHtml;\n",
              "          element.appendChild(docLink);\n",
              "        }\n",
              "      </script>\n",
              "    </div>\n",
              "  </div>\n",
              "  "
            ],
            "text/plain": [
              "  Id_custumer                    cus_Address  ...     cus_Country       cus_Phone\n",
              "0       ALFKI                  OBERE STR. 57  ...         GERMANY     030-0074321\n",
              "1       ANATR  AVDA. DE LA CONSTITUCIÓN 2222  ...          MEXICO    (5) 555-4729\n",
              "2       ANTON                MATADEROS  2312  ...          MEXICO    (5) 555-3932\n",
              "3       AROUT                120 HANOVER SQ.  ...  UNITED KINGDOM  (171) 555-7788\n",
              "4       BERGS                BERGUVSVÄGEN  8  ...          SWEDEN   0921-12 34 65\n",
              "5       BLAUS                 FORSTERSTR. 57  ...         GERMANY      0621-08460\n",
              "6       BLONP               24, PLACE KLÉBER  ...          FRANCE     88.60.15.31\n",
              "7       BOLID                 C/ ARAQUIL, 67  ...           SPAIN  (91) 555 22 82\n",
              "8       BONAP           12, RUE DES BOUCHERS  ...          FRANCE     91.24.45.40\n",
              "9       BOTTM             23 TSAWASSEN BLVD.  ...          CANADA  (604) 555-4729\n",
              "\n",
              "[10 rows x 5 columns]"
            ]
          },
          "metadata": {},
          "execution_count": 17
        }
      ]
    },
    {
      "cell_type": "markdown",
      "source": [
        "Transformación de employee"
      ],
      "metadata": {
        "id": "XAd9Vrai8rae"
      }
    },
    {
      "cell_type": "code",
      "source": [
        "df_employees['emp_Country']= df_employees['emp_Country'].replace('UK','United Kingdom')\n",
        "df_employees['emp_Country']= df_employees['emp_Country'].str.upper()\n",
        "df_employees['emp_LastName']= df_employees['emp_LastName'].str.upper()\n",
        "df_employees['emp_FirstName']= df_employees['emp_FirstName'].str.upper()\n",
        "df_employees['emp_Title']= df_employees['emp_Title'].str.upper()\n",
        "df_employees['emp_Address']= df_employees['emp_Address'].str.upper()\n",
        "df_employees['emp_City']= df_employees['emp_City'].str.upper()\n",
        "\n",
        "df_employees.head(10)"
      ],
      "metadata": {
        "colab": {
          "base_uri": "https://localhost:8080/",
          "height": 331
        },
        "outputId": "a931460e-7c07-4734-e2de-d272b5b551d5",
        "id": "c0Q9kJ6P8rae"
      },
      "execution_count": 18,
      "outputs": [
        {
          "output_type": "execute_result",
          "data": {
            "text/html": [
              "\n",
              "  <div id=\"df-3d7c7bcd-8466-4744-91e6-e960547f54ea\">\n",
              "    <div class=\"colab-df-container\">\n",
              "      <div>\n",
              "<style scoped>\n",
              "    .dataframe tbody tr th:only-of-type {\n",
              "        vertical-align: middle;\n",
              "    }\n",
              "\n",
              "    .dataframe tbody tr th {\n",
              "        vertical-align: top;\n",
              "    }\n",
              "\n",
              "    .dataframe thead th {\n",
              "        text-align: right;\n",
              "    }\n",
              "</style>\n",
              "<table border=\"1\" class=\"dataframe\">\n",
              "  <thead>\n",
              "    <tr style=\"text-align: right;\">\n",
              "      <th></th>\n",
              "      <th>emp_LastName</th>\n",
              "      <th>emp_FirstName</th>\n",
              "      <th>emp_Title</th>\n",
              "      <th>emp_Address</th>\n",
              "      <th>emp_City</th>\n",
              "      <th>emp_Country</th>\n",
              "    </tr>\n",
              "  </thead>\n",
              "  <tbody>\n",
              "    <tr>\n",
              "      <th>0</th>\n",
              "      <td>DAVOLIO</td>\n",
              "      <td>NANCY</td>\n",
              "      <td>SALES REPRESENTATIVE</td>\n",
              "      <td>507 - 20TH AVE. E. APT. 2A</td>\n",
              "      <td>SEATTLE</td>\n",
              "      <td>USA</td>\n",
              "    </tr>\n",
              "    <tr>\n",
              "      <th>1</th>\n",
              "      <td>FULLER</td>\n",
              "      <td>ANDREW</td>\n",
              "      <td>VICE PRESIDENT, SALES</td>\n",
              "      <td>908 W. CAPITAL WAY</td>\n",
              "      <td>TACOMA</td>\n",
              "      <td>USA</td>\n",
              "    </tr>\n",
              "    <tr>\n",
              "      <th>2</th>\n",
              "      <td>LEVERLING</td>\n",
              "      <td>JANET</td>\n",
              "      <td>SALES REPRESENTATIVE</td>\n",
              "      <td>722 MOSS BAY BLVD.</td>\n",
              "      <td>KIRKLAND</td>\n",
              "      <td>USA</td>\n",
              "    </tr>\n",
              "    <tr>\n",
              "      <th>3</th>\n",
              "      <td>PEACOCK</td>\n",
              "      <td>MARGARET</td>\n",
              "      <td>SALES REPRESENTATIVE</td>\n",
              "      <td>4110 OLD REDMOND RD.</td>\n",
              "      <td>REDMOND</td>\n",
              "      <td>USA</td>\n",
              "    </tr>\n",
              "    <tr>\n",
              "      <th>4</th>\n",
              "      <td>BUCHANAN</td>\n",
              "      <td>STEVEN</td>\n",
              "      <td>SALES MANAGER</td>\n",
              "      <td>14 GARRETT HILL</td>\n",
              "      <td>LONDON</td>\n",
              "      <td>UNITED KINGDOM</td>\n",
              "    </tr>\n",
              "    <tr>\n",
              "      <th>5</th>\n",
              "      <td>SUYAMA</td>\n",
              "      <td>MICHAEL</td>\n",
              "      <td>SALES REPRESENTATIVE</td>\n",
              "      <td>COVENTRY HOUSE MINER RD.</td>\n",
              "      <td>LONDON</td>\n",
              "      <td>UNITED KINGDOM</td>\n",
              "    </tr>\n",
              "    <tr>\n",
              "      <th>6</th>\n",
              "      <td>KING</td>\n",
              "      <td>ROBERT</td>\n",
              "      <td>SALES REPRESENTATIVE</td>\n",
              "      <td>EDGEHAM HOLLOW WINCHESTER WAY</td>\n",
              "      <td>LONDON</td>\n",
              "      <td>UNITED KINGDOM</td>\n",
              "    </tr>\n",
              "    <tr>\n",
              "      <th>7</th>\n",
              "      <td>CALLAHAN</td>\n",
              "      <td>LAURA</td>\n",
              "      <td>INSIDE SALES COORDINATOR</td>\n",
              "      <td>4726 - 11TH AVE. N.E.</td>\n",
              "      <td>SEATTLE</td>\n",
              "      <td>USA</td>\n",
              "    </tr>\n",
              "    <tr>\n",
              "      <th>8</th>\n",
              "      <td>DODSWORTH</td>\n",
              "      <td>ANNE</td>\n",
              "      <td>SALES REPRESENTATIVE</td>\n",
              "      <td>7 HOUNDSTOOTH RD.</td>\n",
              "      <td>LONDON</td>\n",
              "      <td>UNITED KINGDOM</td>\n",
              "    </tr>\n",
              "  </tbody>\n",
              "</table>\n",
              "</div>\n",
              "      <button class=\"colab-df-convert\" onclick=\"convertToInteractive('df-3d7c7bcd-8466-4744-91e6-e960547f54ea')\"\n",
              "              title=\"Convert this dataframe to an interactive table.\"\n",
              "              style=\"display:none;\">\n",
              "        \n",
              "  <svg xmlns=\"http://www.w3.org/2000/svg\" height=\"24px\"viewBox=\"0 0 24 24\"\n",
              "       width=\"24px\">\n",
              "    <path d=\"M0 0h24v24H0V0z\" fill=\"none\"/>\n",
              "    <path d=\"M18.56 5.44l.94 2.06.94-2.06 2.06-.94-2.06-.94-.94-2.06-.94 2.06-2.06.94zm-11 1L8.5 8.5l.94-2.06 2.06-.94-2.06-.94L8.5 2.5l-.94 2.06-2.06.94zm10 10l.94 2.06.94-2.06 2.06-.94-2.06-.94-.94-2.06-.94 2.06-2.06.94z\"/><path d=\"M17.41 7.96l-1.37-1.37c-.4-.4-.92-.59-1.43-.59-.52 0-1.04.2-1.43.59L10.3 9.45l-7.72 7.72c-.78.78-.78 2.05 0 2.83L4 21.41c.39.39.9.59 1.41.59.51 0 1.02-.2 1.41-.59l7.78-7.78 2.81-2.81c.8-.78.8-2.07 0-2.86zM5.41 20L4 18.59l7.72-7.72 1.47 1.35L5.41 20z\"/>\n",
              "  </svg>\n",
              "      </button>\n",
              "      \n",
              "  <style>\n",
              "    .colab-df-container {\n",
              "      display:flex;\n",
              "      flex-wrap:wrap;\n",
              "      gap: 12px;\n",
              "    }\n",
              "\n",
              "    .colab-df-convert {\n",
              "      background-color: #E8F0FE;\n",
              "      border: none;\n",
              "      border-radius: 50%;\n",
              "      cursor: pointer;\n",
              "      display: none;\n",
              "      fill: #1967D2;\n",
              "      height: 32px;\n",
              "      padding: 0 0 0 0;\n",
              "      width: 32px;\n",
              "    }\n",
              "\n",
              "    .colab-df-convert:hover {\n",
              "      background-color: #E2EBFA;\n",
              "      box-shadow: 0px 1px 2px rgba(60, 64, 67, 0.3), 0px 1px 3px 1px rgba(60, 64, 67, 0.15);\n",
              "      fill: #174EA6;\n",
              "    }\n",
              "\n",
              "    [theme=dark] .colab-df-convert {\n",
              "      background-color: #3B4455;\n",
              "      fill: #D2E3FC;\n",
              "    }\n",
              "\n",
              "    [theme=dark] .colab-df-convert:hover {\n",
              "      background-color: #434B5C;\n",
              "      box-shadow: 0px 1px 3px 1px rgba(0, 0, 0, 0.15);\n",
              "      filter: drop-shadow(0px 1px 2px rgba(0, 0, 0, 0.3));\n",
              "      fill: #FFFFFF;\n",
              "    }\n",
              "  </style>\n",
              "\n",
              "      <script>\n",
              "        const buttonEl =\n",
              "          document.querySelector('#df-3d7c7bcd-8466-4744-91e6-e960547f54ea button.colab-df-convert');\n",
              "        buttonEl.style.display =\n",
              "          google.colab.kernel.accessAllowed ? 'block' : 'none';\n",
              "\n",
              "        async function convertToInteractive(key) {\n",
              "          const element = document.querySelector('#df-3d7c7bcd-8466-4744-91e6-e960547f54ea');\n",
              "          const dataTable =\n",
              "            await google.colab.kernel.invokeFunction('convertToInteractive',\n",
              "                                                     [key], {});\n",
              "          if (!dataTable) return;\n",
              "\n",
              "          const docLinkHtml = 'Like what you see? Visit the ' +\n",
              "            '<a target=\"_blank\" href=https://colab.research.google.com/notebooks/data_table.ipynb>data table notebook</a>'\n",
              "            + ' to learn more about interactive tables.';\n",
              "          element.innerHTML = '';\n",
              "          dataTable['output_type'] = 'display_data';\n",
              "          await google.colab.output.renderOutput(dataTable, element);\n",
              "          const docLink = document.createElement('div');\n",
              "          docLink.innerHTML = docLinkHtml;\n",
              "          element.appendChild(docLink);\n",
              "        }\n",
              "      </script>\n",
              "    </div>\n",
              "  </div>\n",
              "  "
            ],
            "text/plain": [
              "  emp_LastName emp_FirstName  ...  emp_City     emp_Country\n",
              "0      DAVOLIO         NANCY  ...   SEATTLE             USA\n",
              "1       FULLER        ANDREW  ...    TACOMA             USA\n",
              "2    LEVERLING         JANET  ...  KIRKLAND             USA\n",
              "3      PEACOCK      MARGARET  ...   REDMOND             USA\n",
              "4     BUCHANAN        STEVEN  ...    LONDON  UNITED KINGDOM\n",
              "5       SUYAMA       MICHAEL  ...    LONDON  UNITED KINGDOM\n",
              "6         KING        ROBERT  ...    LONDON  UNITED KINGDOM\n",
              "7     CALLAHAN         LAURA  ...   SEATTLE             USA\n",
              "8    DODSWORTH          ANNE  ...    LONDON  UNITED KINGDOM\n",
              "\n",
              "[9 rows x 6 columns]"
            ]
          },
          "metadata": {},
          "execution_count": 18
        }
      ]
    },
    {
      "cell_type": "markdown",
      "source": [
        "Transformación de product"
      ],
      "metadata": {
        "id": "WHdecdiMvkp3"
      }
    },
    {
      "cell_type": "code",
      "source": [
        "df_product['CategoryName']= df_product['CategoryName'].str.upper()\n",
        "df_product['ProductName']= df_product['ProductName'].str.upper()\n",
        "df_product.head(10)"
      ],
      "metadata": {
        "colab": {
          "base_uri": "https://localhost:8080/",
          "height": 363
        },
        "id": "tjBuUv9FZBXr",
        "outputId": "50dddcaf-69ca-4b96-dbdd-b1de1c4903e8"
      },
      "execution_count": 19,
      "outputs": [
        {
          "output_type": "execute_result",
          "data": {
            "text/html": [
              "\n",
              "  <div id=\"df-af475ed6-18b0-4aa8-a7ff-97d977b9d1c9\">\n",
              "    <div class=\"colab-df-container\">\n",
              "      <div>\n",
              "<style scoped>\n",
              "    .dataframe tbody tr th:only-of-type {\n",
              "        vertical-align: middle;\n",
              "    }\n",
              "\n",
              "    .dataframe tbody tr th {\n",
              "        vertical-align: top;\n",
              "    }\n",
              "\n",
              "    .dataframe thead th {\n",
              "        text-align: right;\n",
              "    }\n",
              "</style>\n",
              "<table border=\"1\" class=\"dataframe\">\n",
              "  <thead>\n",
              "    <tr style=\"text-align: right;\">\n",
              "      <th></th>\n",
              "      <th>ProductName</th>\n",
              "      <th>CategoryName</th>\n",
              "    </tr>\n",
              "  </thead>\n",
              "  <tbody>\n",
              "    <tr>\n",
              "      <th>0</th>\n",
              "      <td>CHAI</td>\n",
              "      <td>BEVERAGES</td>\n",
              "    </tr>\n",
              "    <tr>\n",
              "      <th>1</th>\n",
              "      <td>CHANG</td>\n",
              "      <td>BEVERAGES</td>\n",
              "    </tr>\n",
              "    <tr>\n",
              "      <th>2</th>\n",
              "      <td>ANISEED SYRUP</td>\n",
              "      <td>CONDIMENTS</td>\n",
              "    </tr>\n",
              "    <tr>\n",
              "      <th>3</th>\n",
              "      <td>CHEF ANTON'S CAJUN SEASONING</td>\n",
              "      <td>CONDIMENTS</td>\n",
              "    </tr>\n",
              "    <tr>\n",
              "      <th>4</th>\n",
              "      <td>CHEF ANTON'S GUMBO MIX</td>\n",
              "      <td>CONDIMENTS</td>\n",
              "    </tr>\n",
              "    <tr>\n",
              "      <th>5</th>\n",
              "      <td>GRANDMA'S BOYSENBERRY SPREAD</td>\n",
              "      <td>CONDIMENTS</td>\n",
              "    </tr>\n",
              "    <tr>\n",
              "      <th>6</th>\n",
              "      <td>UNCLE BOB'S ORGANIC DRIED PEARS</td>\n",
              "      <td>PRODUCE</td>\n",
              "    </tr>\n",
              "    <tr>\n",
              "      <th>7</th>\n",
              "      <td>NORTHWOODS CRANBERRY SAUCE</td>\n",
              "      <td>CONDIMENTS</td>\n",
              "    </tr>\n",
              "    <tr>\n",
              "      <th>8</th>\n",
              "      <td>MISHI KOBE NIKU</td>\n",
              "      <td>MEAT/POULTRY</td>\n",
              "    </tr>\n",
              "    <tr>\n",
              "      <th>9</th>\n",
              "      <td>IKURA</td>\n",
              "      <td>SEAFOOD</td>\n",
              "    </tr>\n",
              "  </tbody>\n",
              "</table>\n",
              "</div>\n",
              "      <button class=\"colab-df-convert\" onclick=\"convertToInteractive('df-af475ed6-18b0-4aa8-a7ff-97d977b9d1c9')\"\n",
              "              title=\"Convert this dataframe to an interactive table.\"\n",
              "              style=\"display:none;\">\n",
              "        \n",
              "  <svg xmlns=\"http://www.w3.org/2000/svg\" height=\"24px\"viewBox=\"0 0 24 24\"\n",
              "       width=\"24px\">\n",
              "    <path d=\"M0 0h24v24H0V0z\" fill=\"none\"/>\n",
              "    <path d=\"M18.56 5.44l.94 2.06.94-2.06 2.06-.94-2.06-.94-.94-2.06-.94 2.06-2.06.94zm-11 1L8.5 8.5l.94-2.06 2.06-.94-2.06-.94L8.5 2.5l-.94 2.06-2.06.94zm10 10l.94 2.06.94-2.06 2.06-.94-2.06-.94-.94-2.06-.94 2.06-2.06.94z\"/><path d=\"M17.41 7.96l-1.37-1.37c-.4-.4-.92-.59-1.43-.59-.52 0-1.04.2-1.43.59L10.3 9.45l-7.72 7.72c-.78.78-.78 2.05 0 2.83L4 21.41c.39.39.9.59 1.41.59.51 0 1.02-.2 1.41-.59l7.78-7.78 2.81-2.81c.8-.78.8-2.07 0-2.86zM5.41 20L4 18.59l7.72-7.72 1.47 1.35L5.41 20z\"/>\n",
              "  </svg>\n",
              "      </button>\n",
              "      \n",
              "  <style>\n",
              "    .colab-df-container {\n",
              "      display:flex;\n",
              "      flex-wrap:wrap;\n",
              "      gap: 12px;\n",
              "    }\n",
              "\n",
              "    .colab-df-convert {\n",
              "      background-color: #E8F0FE;\n",
              "      border: none;\n",
              "      border-radius: 50%;\n",
              "      cursor: pointer;\n",
              "      display: none;\n",
              "      fill: #1967D2;\n",
              "      height: 32px;\n",
              "      padding: 0 0 0 0;\n",
              "      width: 32px;\n",
              "    }\n",
              "\n",
              "    .colab-df-convert:hover {\n",
              "      background-color: #E2EBFA;\n",
              "      box-shadow: 0px 1px 2px rgba(60, 64, 67, 0.3), 0px 1px 3px 1px rgba(60, 64, 67, 0.15);\n",
              "      fill: #174EA6;\n",
              "    }\n",
              "\n",
              "    [theme=dark] .colab-df-convert {\n",
              "      background-color: #3B4455;\n",
              "      fill: #D2E3FC;\n",
              "    }\n",
              "\n",
              "    [theme=dark] .colab-df-convert:hover {\n",
              "      background-color: #434B5C;\n",
              "      box-shadow: 0px 1px 3px 1px rgba(0, 0, 0, 0.15);\n",
              "      filter: drop-shadow(0px 1px 2px rgba(0, 0, 0, 0.3));\n",
              "      fill: #FFFFFF;\n",
              "    }\n",
              "  </style>\n",
              "\n",
              "      <script>\n",
              "        const buttonEl =\n",
              "          document.querySelector('#df-af475ed6-18b0-4aa8-a7ff-97d977b9d1c9 button.colab-df-convert');\n",
              "        buttonEl.style.display =\n",
              "          google.colab.kernel.accessAllowed ? 'block' : 'none';\n",
              "\n",
              "        async function convertToInteractive(key) {\n",
              "          const element = document.querySelector('#df-af475ed6-18b0-4aa8-a7ff-97d977b9d1c9');\n",
              "          const dataTable =\n",
              "            await google.colab.kernel.invokeFunction('convertToInteractive',\n",
              "                                                     [key], {});\n",
              "          if (!dataTable) return;\n",
              "\n",
              "          const docLinkHtml = 'Like what you see? Visit the ' +\n",
              "            '<a target=\"_blank\" href=https://colab.research.google.com/notebooks/data_table.ipynb>data table notebook</a>'\n",
              "            + ' to learn more about interactive tables.';\n",
              "          element.innerHTML = '';\n",
              "          dataTable['output_type'] = 'display_data';\n",
              "          await google.colab.output.renderOutput(dataTable, element);\n",
              "          const docLink = document.createElement('div');\n",
              "          docLink.innerHTML = docLinkHtml;\n",
              "          element.appendChild(docLink);\n",
              "        }\n",
              "      </script>\n",
              "    </div>\n",
              "  </div>\n",
              "  "
            ],
            "text/plain": [
              "                       ProductName  CategoryName\n",
              "0                             CHAI     BEVERAGES\n",
              "1                            CHANG     BEVERAGES\n",
              "2                    ANISEED SYRUP    CONDIMENTS\n",
              "3     CHEF ANTON'S CAJUN SEASONING    CONDIMENTS\n",
              "4           CHEF ANTON'S GUMBO MIX    CONDIMENTS\n",
              "5     GRANDMA'S BOYSENBERRY SPREAD    CONDIMENTS\n",
              "6  UNCLE BOB'S ORGANIC DRIED PEARS       PRODUCE\n",
              "7       NORTHWOODS CRANBERRY SAUCE    CONDIMENTS\n",
              "8                  MISHI KOBE NIKU  MEAT/POULTRY\n",
              "9                            IKURA       SEAFOOD"
            ]
          },
          "metadata": {},
          "execution_count": 19
        }
      ]
    },
    {
      "cell_type": "markdown",
      "source": [
        "Transformación de Supplier"
      ],
      "metadata": {
        "id": "nvlk0y8Ey3UR"
      }
    },
    {
      "cell_type": "code",
      "source": [
        "df_supplier['sup_Country']= df_supplier['sup_Country'].replace('UK','United Kingdom')\n",
        "df_supplier['sup_CompanyName']= df_supplier['sup_CompanyName'].str.upper()\n",
        "df_supplier['sup_Address']= df_supplier['sup_Address'].str.upper()\n",
        "df_supplier['sup_City']= df_supplier['sup_City'].str.upper()\n",
        "df_supplier['sup_Country']= df_supplier['sup_Country'].str.upper()\n",
        "df_supplier.head(10)"
      ],
      "metadata": {
        "colab": {
          "base_uri": "https://localhost:8080/",
          "height": 363
        },
        "id": "xb010Exly_ZS",
        "outputId": "22645c9a-c61e-4b55-be84-9be843a26438"
      },
      "execution_count": 20,
      "outputs": [
        {
          "output_type": "execute_result",
          "data": {
            "text/html": [
              "\n",
              "  <div id=\"df-19be4645-a76a-435b-bb35-3a83a4457588\">\n",
              "    <div class=\"colab-df-container\">\n",
              "      <div>\n",
              "<style scoped>\n",
              "    .dataframe tbody tr th:only-of-type {\n",
              "        vertical-align: middle;\n",
              "    }\n",
              "\n",
              "    .dataframe tbody tr th {\n",
              "        vertical-align: top;\n",
              "    }\n",
              "\n",
              "    .dataframe thead th {\n",
              "        text-align: right;\n",
              "    }\n",
              "</style>\n",
              "<table border=\"1\" class=\"dataframe\">\n",
              "  <thead>\n",
              "    <tr style=\"text-align: right;\">\n",
              "      <th></th>\n",
              "      <th>sup_CompanyName</th>\n",
              "      <th>sup_Address</th>\n",
              "      <th>sup_City</th>\n",
              "      <th>sup_Country</th>\n",
              "    </tr>\n",
              "  </thead>\n",
              "  <tbody>\n",
              "    <tr>\n",
              "      <th>0</th>\n",
              "      <td>EXOTIC LIQUIDS</td>\n",
              "      <td>49 GILBERT ST.</td>\n",
              "      <td>LONDON</td>\n",
              "      <td>UNITED KINGDOM</td>\n",
              "    </tr>\n",
              "    <tr>\n",
              "      <th>1</th>\n",
              "      <td>NEW ORLEANS CAJUN DELIGHTS</td>\n",
              "      <td>P.O. BOX 78934</td>\n",
              "      <td>NEW ORLEANS</td>\n",
              "      <td>USA</td>\n",
              "    </tr>\n",
              "    <tr>\n",
              "      <th>2</th>\n",
              "      <td>GRANDMA KELLY'S HOMESTEAD</td>\n",
              "      <td>707 OXFORD RD.</td>\n",
              "      <td>ANN ARBOR</td>\n",
              "      <td>USA</td>\n",
              "    </tr>\n",
              "    <tr>\n",
              "      <th>3</th>\n",
              "      <td>TOKYO TRADERS</td>\n",
              "      <td>9-8 SEKIMAI MUSASHINO-SHI</td>\n",
              "      <td>TOKYO</td>\n",
              "      <td>JAPAN</td>\n",
              "    </tr>\n",
              "    <tr>\n",
              "      <th>4</th>\n",
              "      <td>COOPERATIVA DE QUESOS 'LAS CABRAS'</td>\n",
              "      <td>CALLE DEL ROSAL 4</td>\n",
              "      <td>OVIEDO</td>\n",
              "      <td>SPAIN</td>\n",
              "    </tr>\n",
              "    <tr>\n",
              "      <th>5</th>\n",
              "      <td>MAYUMI'S</td>\n",
              "      <td>92 SETSUKO CHUO-KU</td>\n",
              "      <td>OSAKA</td>\n",
              "      <td>JAPAN</td>\n",
              "    </tr>\n",
              "    <tr>\n",
              "      <th>6</th>\n",
              "      <td>PAVLOVA, LTD.</td>\n",
              "      <td>74 ROSE ST. MOONIE PONDS</td>\n",
              "      <td>MELBOURNE</td>\n",
              "      <td>AUSTRALIA</td>\n",
              "    </tr>\n",
              "    <tr>\n",
              "      <th>7</th>\n",
              "      <td>SPECIALTY BISCUITS, LTD.</td>\n",
              "      <td>29 KING'S WAY</td>\n",
              "      <td>MANCHESTER</td>\n",
              "      <td>UNITED KINGDOM</td>\n",
              "    </tr>\n",
              "    <tr>\n",
              "      <th>8</th>\n",
              "      <td>PB KNÄCKEBRÖD AB</td>\n",
              "      <td>KALOADAGATAN 13</td>\n",
              "      <td>GÖTEBORG</td>\n",
              "      <td>SWEDEN</td>\n",
              "    </tr>\n",
              "    <tr>\n",
              "      <th>9</th>\n",
              "      <td>REFRESCOS AMERICANAS LTDA</td>\n",
              "      <td>AV. DAS AMERICANAS 12.890</td>\n",
              "      <td>SAO PAULO</td>\n",
              "      <td>BRAZIL</td>\n",
              "    </tr>\n",
              "  </tbody>\n",
              "</table>\n",
              "</div>\n",
              "      <button class=\"colab-df-convert\" onclick=\"convertToInteractive('df-19be4645-a76a-435b-bb35-3a83a4457588')\"\n",
              "              title=\"Convert this dataframe to an interactive table.\"\n",
              "              style=\"display:none;\">\n",
              "        \n",
              "  <svg xmlns=\"http://www.w3.org/2000/svg\" height=\"24px\"viewBox=\"0 0 24 24\"\n",
              "       width=\"24px\">\n",
              "    <path d=\"M0 0h24v24H0V0z\" fill=\"none\"/>\n",
              "    <path d=\"M18.56 5.44l.94 2.06.94-2.06 2.06-.94-2.06-.94-.94-2.06-.94 2.06-2.06.94zm-11 1L8.5 8.5l.94-2.06 2.06-.94-2.06-.94L8.5 2.5l-.94 2.06-2.06.94zm10 10l.94 2.06.94-2.06 2.06-.94-2.06-.94-.94-2.06-.94 2.06-2.06.94z\"/><path d=\"M17.41 7.96l-1.37-1.37c-.4-.4-.92-.59-1.43-.59-.52 0-1.04.2-1.43.59L10.3 9.45l-7.72 7.72c-.78.78-.78 2.05 0 2.83L4 21.41c.39.39.9.59 1.41.59.51 0 1.02-.2 1.41-.59l7.78-7.78 2.81-2.81c.8-.78.8-2.07 0-2.86zM5.41 20L4 18.59l7.72-7.72 1.47 1.35L5.41 20z\"/>\n",
              "  </svg>\n",
              "      </button>\n",
              "      \n",
              "  <style>\n",
              "    .colab-df-container {\n",
              "      display:flex;\n",
              "      flex-wrap:wrap;\n",
              "      gap: 12px;\n",
              "    }\n",
              "\n",
              "    .colab-df-convert {\n",
              "      background-color: #E8F0FE;\n",
              "      border: none;\n",
              "      border-radius: 50%;\n",
              "      cursor: pointer;\n",
              "      display: none;\n",
              "      fill: #1967D2;\n",
              "      height: 32px;\n",
              "      padding: 0 0 0 0;\n",
              "      width: 32px;\n",
              "    }\n",
              "\n",
              "    .colab-df-convert:hover {\n",
              "      background-color: #E2EBFA;\n",
              "      box-shadow: 0px 1px 2px rgba(60, 64, 67, 0.3), 0px 1px 3px 1px rgba(60, 64, 67, 0.15);\n",
              "      fill: #174EA6;\n",
              "    }\n",
              "\n",
              "    [theme=dark] .colab-df-convert {\n",
              "      background-color: #3B4455;\n",
              "      fill: #D2E3FC;\n",
              "    }\n",
              "\n",
              "    [theme=dark] .colab-df-convert:hover {\n",
              "      background-color: #434B5C;\n",
              "      box-shadow: 0px 1px 3px 1px rgba(0, 0, 0, 0.15);\n",
              "      filter: drop-shadow(0px 1px 2px rgba(0, 0, 0, 0.3));\n",
              "      fill: #FFFFFF;\n",
              "    }\n",
              "  </style>\n",
              "\n",
              "      <script>\n",
              "        const buttonEl =\n",
              "          document.querySelector('#df-19be4645-a76a-435b-bb35-3a83a4457588 button.colab-df-convert');\n",
              "        buttonEl.style.display =\n",
              "          google.colab.kernel.accessAllowed ? 'block' : 'none';\n",
              "\n",
              "        async function convertToInteractive(key) {\n",
              "          const element = document.querySelector('#df-19be4645-a76a-435b-bb35-3a83a4457588');\n",
              "          const dataTable =\n",
              "            await google.colab.kernel.invokeFunction('convertToInteractive',\n",
              "                                                     [key], {});\n",
              "          if (!dataTable) return;\n",
              "\n",
              "          const docLinkHtml = 'Like what you see? Visit the ' +\n",
              "            '<a target=\"_blank\" href=https://colab.research.google.com/notebooks/data_table.ipynb>data table notebook</a>'\n",
              "            + ' to learn more about interactive tables.';\n",
              "          element.innerHTML = '';\n",
              "          dataTable['output_type'] = 'display_data';\n",
              "          await google.colab.output.renderOutput(dataTable, element);\n",
              "          const docLink = document.createElement('div');\n",
              "          docLink.innerHTML = docLinkHtml;\n",
              "          element.appendChild(docLink);\n",
              "        }\n",
              "      </script>\n",
              "    </div>\n",
              "  </div>\n",
              "  "
            ],
            "text/plain": [
              "                      sup_CompanyName  ...     sup_Country\n",
              "0                      EXOTIC LIQUIDS  ...  UNITED KINGDOM\n",
              "1          NEW ORLEANS CAJUN DELIGHTS  ...             USA\n",
              "2           GRANDMA KELLY'S HOMESTEAD  ...             USA\n",
              "3                       TOKYO TRADERS  ...           JAPAN\n",
              "4  COOPERATIVA DE QUESOS 'LAS CABRAS'  ...           SPAIN\n",
              "5                            MAYUMI'S  ...           JAPAN\n",
              "6                       PAVLOVA, LTD.  ...       AUSTRALIA\n",
              "7            SPECIALTY BISCUITS, LTD.  ...  UNITED KINGDOM\n",
              "8                    PB KNÄCKEBRÖD AB  ...          SWEDEN\n",
              "9           REFRESCOS AMERICANAS LTDA  ...          BRAZIL\n",
              "\n",
              "[10 rows x 4 columns]"
            ]
          },
          "metadata": {},
          "execution_count": 20
        }
      ]
    },
    {
      "cell_type": "markdown",
      "source": [
        "Transformación de Time"
      ],
      "metadata": {
        "id": "7n3oK0Ss3J-x"
      }
    },
    {
      "cell_type": "code",
      "source": [
        "df_date['Name_Day']= df_date['Name_Day'].str.upper()\n",
        "df_date['Name_Month']= df_date['Name_Month'].str.upper()\n",
        "df_date.head(10)\n"
      ],
      "metadata": {
        "colab": {
          "base_uri": "https://localhost:8080/",
          "height": 363
        },
        "id": "5BgVLPEr3Oxr",
        "outputId": "458c8d0a-9833-41f7-93ea-a61c77fcb64e"
      },
      "execution_count": 21,
      "outputs": [
        {
          "output_type": "execute_result",
          "data": {
            "text/html": [
              "\n",
              "  <div id=\"df-b100a842-eddf-4749-877c-4e6744929a23\">\n",
              "    <div class=\"colab-df-container\">\n",
              "      <div>\n",
              "<style scoped>\n",
              "    .dataframe tbody tr th:only-of-type {\n",
              "        vertical-align: middle;\n",
              "    }\n",
              "\n",
              "    .dataframe tbody tr th {\n",
              "        vertical-align: top;\n",
              "    }\n",
              "\n",
              "    .dataframe thead th {\n",
              "        text-align: right;\n",
              "    }\n",
              "</style>\n",
              "<table border=\"1\" class=\"dataframe\">\n",
              "  <thead>\n",
              "    <tr style=\"text-align: right;\">\n",
              "      <th></th>\n",
              "      <th>Date</th>\n",
              "      <th>Day</th>\n",
              "      <th>Month</th>\n",
              "      <th>Year</th>\n",
              "      <th>Quarter</th>\n",
              "      <th>Week</th>\n",
              "      <th>Weekday</th>\n",
              "      <th>Name_Day</th>\n",
              "      <th>Name_Month</th>\n",
              "    </tr>\n",
              "  </thead>\n",
              "  <tbody>\n",
              "    <tr>\n",
              "      <th>0</th>\n",
              "      <td>2006-02-19</td>\n",
              "      <td>19</td>\n",
              "      <td>2</td>\n",
              "      <td>2006</td>\n",
              "      <td>1</td>\n",
              "      <td>7</td>\n",
              "      <td>6</td>\n",
              "      <td>SUNDAY</td>\n",
              "      <td>FEBRUARY</td>\n",
              "    </tr>\n",
              "    <tr>\n",
              "      <th>1</th>\n",
              "      <td>2006-02-20</td>\n",
              "      <td>20</td>\n",
              "      <td>2</td>\n",
              "      <td>2006</td>\n",
              "      <td>1</td>\n",
              "      <td>8</td>\n",
              "      <td>0</td>\n",
              "      <td>MONDAY</td>\n",
              "      <td>FEBRUARY</td>\n",
              "    </tr>\n",
              "    <tr>\n",
              "      <th>2</th>\n",
              "      <td>2006-02-21</td>\n",
              "      <td>21</td>\n",
              "      <td>2</td>\n",
              "      <td>2006</td>\n",
              "      <td>1</td>\n",
              "      <td>8</td>\n",
              "      <td>1</td>\n",
              "      <td>TUESDAY</td>\n",
              "      <td>FEBRUARY</td>\n",
              "    </tr>\n",
              "    <tr>\n",
              "      <th>3</th>\n",
              "      <td>2006-02-22</td>\n",
              "      <td>22</td>\n",
              "      <td>2</td>\n",
              "      <td>2006</td>\n",
              "      <td>1</td>\n",
              "      <td>8</td>\n",
              "      <td>2</td>\n",
              "      <td>WEDNESDAY</td>\n",
              "      <td>FEBRUARY</td>\n",
              "    </tr>\n",
              "    <tr>\n",
              "      <th>4</th>\n",
              "      <td>2006-02-23</td>\n",
              "      <td>23</td>\n",
              "      <td>2</td>\n",
              "      <td>2006</td>\n",
              "      <td>1</td>\n",
              "      <td>8</td>\n",
              "      <td>3</td>\n",
              "      <td>THURSDAY</td>\n",
              "      <td>FEBRUARY</td>\n",
              "    </tr>\n",
              "    <tr>\n",
              "      <th>5</th>\n",
              "      <td>2006-02-24</td>\n",
              "      <td>24</td>\n",
              "      <td>2</td>\n",
              "      <td>2006</td>\n",
              "      <td>1</td>\n",
              "      <td>8</td>\n",
              "      <td>4</td>\n",
              "      <td>FRIDAY</td>\n",
              "      <td>FEBRUARY</td>\n",
              "    </tr>\n",
              "    <tr>\n",
              "      <th>6</th>\n",
              "      <td>2006-02-25</td>\n",
              "      <td>25</td>\n",
              "      <td>2</td>\n",
              "      <td>2006</td>\n",
              "      <td>1</td>\n",
              "      <td>8</td>\n",
              "      <td>5</td>\n",
              "      <td>SATURDAY</td>\n",
              "      <td>FEBRUARY</td>\n",
              "    </tr>\n",
              "    <tr>\n",
              "      <th>7</th>\n",
              "      <td>2006-02-26</td>\n",
              "      <td>26</td>\n",
              "      <td>2</td>\n",
              "      <td>2006</td>\n",
              "      <td>1</td>\n",
              "      <td>8</td>\n",
              "      <td>6</td>\n",
              "      <td>SUNDAY</td>\n",
              "      <td>FEBRUARY</td>\n",
              "    </tr>\n",
              "    <tr>\n",
              "      <th>8</th>\n",
              "      <td>2006-02-27</td>\n",
              "      <td>27</td>\n",
              "      <td>2</td>\n",
              "      <td>2006</td>\n",
              "      <td>1</td>\n",
              "      <td>9</td>\n",
              "      <td>0</td>\n",
              "      <td>MONDAY</td>\n",
              "      <td>FEBRUARY</td>\n",
              "    </tr>\n",
              "    <tr>\n",
              "      <th>9</th>\n",
              "      <td>2006-02-28</td>\n",
              "      <td>28</td>\n",
              "      <td>2</td>\n",
              "      <td>2006</td>\n",
              "      <td>1</td>\n",
              "      <td>9</td>\n",
              "      <td>1</td>\n",
              "      <td>TUESDAY</td>\n",
              "      <td>FEBRUARY</td>\n",
              "    </tr>\n",
              "  </tbody>\n",
              "</table>\n",
              "</div>\n",
              "      <button class=\"colab-df-convert\" onclick=\"convertToInteractive('df-b100a842-eddf-4749-877c-4e6744929a23')\"\n",
              "              title=\"Convert this dataframe to an interactive table.\"\n",
              "              style=\"display:none;\">\n",
              "        \n",
              "  <svg xmlns=\"http://www.w3.org/2000/svg\" height=\"24px\"viewBox=\"0 0 24 24\"\n",
              "       width=\"24px\">\n",
              "    <path d=\"M0 0h24v24H0V0z\" fill=\"none\"/>\n",
              "    <path d=\"M18.56 5.44l.94 2.06.94-2.06 2.06-.94-2.06-.94-.94-2.06-.94 2.06-2.06.94zm-11 1L8.5 8.5l.94-2.06 2.06-.94-2.06-.94L8.5 2.5l-.94 2.06-2.06.94zm10 10l.94 2.06.94-2.06 2.06-.94-2.06-.94-.94-2.06-.94 2.06-2.06.94z\"/><path d=\"M17.41 7.96l-1.37-1.37c-.4-.4-.92-.59-1.43-.59-.52 0-1.04.2-1.43.59L10.3 9.45l-7.72 7.72c-.78.78-.78 2.05 0 2.83L4 21.41c.39.39.9.59 1.41.59.51 0 1.02-.2 1.41-.59l7.78-7.78 2.81-2.81c.8-.78.8-2.07 0-2.86zM5.41 20L4 18.59l7.72-7.72 1.47 1.35L5.41 20z\"/>\n",
              "  </svg>\n",
              "      </button>\n",
              "      \n",
              "  <style>\n",
              "    .colab-df-container {\n",
              "      display:flex;\n",
              "      flex-wrap:wrap;\n",
              "      gap: 12px;\n",
              "    }\n",
              "\n",
              "    .colab-df-convert {\n",
              "      background-color: #E8F0FE;\n",
              "      border: none;\n",
              "      border-radius: 50%;\n",
              "      cursor: pointer;\n",
              "      display: none;\n",
              "      fill: #1967D2;\n",
              "      height: 32px;\n",
              "      padding: 0 0 0 0;\n",
              "      width: 32px;\n",
              "    }\n",
              "\n",
              "    .colab-df-convert:hover {\n",
              "      background-color: #E2EBFA;\n",
              "      box-shadow: 0px 1px 2px rgba(60, 64, 67, 0.3), 0px 1px 3px 1px rgba(60, 64, 67, 0.15);\n",
              "      fill: #174EA6;\n",
              "    }\n",
              "\n",
              "    [theme=dark] .colab-df-convert {\n",
              "      background-color: #3B4455;\n",
              "      fill: #D2E3FC;\n",
              "    }\n",
              "\n",
              "    [theme=dark] .colab-df-convert:hover {\n",
              "      background-color: #434B5C;\n",
              "      box-shadow: 0px 1px 3px 1px rgba(0, 0, 0, 0.15);\n",
              "      filter: drop-shadow(0px 1px 2px rgba(0, 0, 0, 0.3));\n",
              "      fill: #FFFFFF;\n",
              "    }\n",
              "  </style>\n",
              "\n",
              "      <script>\n",
              "        const buttonEl =\n",
              "          document.querySelector('#df-b100a842-eddf-4749-877c-4e6744929a23 button.colab-df-convert');\n",
              "        buttonEl.style.display =\n",
              "          google.colab.kernel.accessAllowed ? 'block' : 'none';\n",
              "\n",
              "        async function convertToInteractive(key) {\n",
              "          const element = document.querySelector('#df-b100a842-eddf-4749-877c-4e6744929a23');\n",
              "          const dataTable =\n",
              "            await google.colab.kernel.invokeFunction('convertToInteractive',\n",
              "                                                     [key], {});\n",
              "          if (!dataTable) return;\n",
              "\n",
              "          const docLinkHtml = 'Like what you see? Visit the ' +\n",
              "            '<a target=\"_blank\" href=https://colab.research.google.com/notebooks/data_table.ipynb>data table notebook</a>'\n",
              "            + ' to learn more about interactive tables.';\n",
              "          element.innerHTML = '';\n",
              "          dataTable['output_type'] = 'display_data';\n",
              "          await google.colab.output.renderOutput(dataTable, element);\n",
              "          const docLink = document.createElement('div');\n",
              "          docLink.innerHTML = docLinkHtml;\n",
              "          element.appendChild(docLink);\n",
              "        }\n",
              "      </script>\n",
              "    </div>\n",
              "  </div>\n",
              "  "
            ],
            "text/plain": [
              "        Date  Day  Month  Year  Quarter  Week  Weekday   Name_Day Name_Month\n",
              "0 2006-02-19   19      2  2006        1     7        6     SUNDAY   FEBRUARY\n",
              "1 2006-02-20   20      2  2006        1     8        0     MONDAY   FEBRUARY\n",
              "2 2006-02-21   21      2  2006        1     8        1    TUESDAY   FEBRUARY\n",
              "3 2006-02-22   22      2  2006        1     8        2  WEDNESDAY   FEBRUARY\n",
              "4 2006-02-23   23      2  2006        1     8        3   THURSDAY   FEBRUARY\n",
              "5 2006-02-24   24      2  2006        1     8        4     FRIDAY   FEBRUARY\n",
              "6 2006-02-25   25      2  2006        1     8        5   SATURDAY   FEBRUARY\n",
              "7 2006-02-26   26      2  2006        1     8        6     SUNDAY   FEBRUARY\n",
              "8 2006-02-27   27      2  2006        1     9        0     MONDAY   FEBRUARY\n",
              "9 2006-02-28   28      2  2006        1     9        1    TUESDAY   FEBRUARY"
            ]
          },
          "metadata": {},
          "execution_count": 21
        }
      ]
    },
    {
      "cell_type": "markdown",
      "source": [
        "Transformación de Hecho"
      ],
      "metadata": {
        "id": "M3mBS7dQ4GxL"
      }
    },
    {
      "cell_type": "code",
      "source": [
        "df_hechos['Total']= round(df_hechos['Total'],2)\n",
        "df_hechos.head(10)"
      ],
      "metadata": {
        "colab": {
          "base_uri": "https://localhost:8080/",
          "height": 363
        },
        "id": "UUOdDyM24JQJ",
        "outputId": "3e1d1f25-72ca-43c1-ee93-e2fc4fff7fa7"
      },
      "execution_count": 22,
      "outputs": [
        {
          "output_type": "execute_result",
          "data": {
            "text/html": [
              "\n",
              "  <div id=\"df-7dd02145-8973-4b56-86f9-325a84d452c8\">\n",
              "    <div class=\"colab-df-container\">\n",
              "      <div>\n",
              "<style scoped>\n",
              "    .dataframe tbody tr th:only-of-type {\n",
              "        vertical-align: middle;\n",
              "    }\n",
              "\n",
              "    .dataframe tbody tr th {\n",
              "        vertical-align: top;\n",
              "    }\n",
              "\n",
              "    .dataframe thead th {\n",
              "        text-align: right;\n",
              "    }\n",
              "</style>\n",
              "<table border=\"1\" class=\"dataframe\">\n",
              "  <thead>\n",
              "    <tr style=\"text-align: right;\">\n",
              "      <th></th>\n",
              "      <th>Id_custumer</th>\n",
              "      <th>Id_employee</th>\n",
              "      <th>Id_time</th>\n",
              "      <th>Id_supplier</th>\n",
              "      <th>Id_produc</th>\n",
              "      <th>Quantity</th>\n",
              "      <th>UnitPrice</th>\n",
              "      <th>Total</th>\n",
              "    </tr>\n",
              "  </thead>\n",
              "  <tbody>\n",
              "    <tr>\n",
              "      <th>0</th>\n",
              "      <td>VINET</td>\n",
              "      <td>5</td>\n",
              "      <td>10248</td>\n",
              "      <td>5</td>\n",
              "      <td>11</td>\n",
              "      <td>12</td>\n",
              "      <td>14.0</td>\n",
              "      <td>168.0</td>\n",
              "    </tr>\n",
              "    <tr>\n",
              "      <th>1</th>\n",
              "      <td>VINET</td>\n",
              "      <td>5</td>\n",
              "      <td>10248</td>\n",
              "      <td>20</td>\n",
              "      <td>42</td>\n",
              "      <td>10</td>\n",
              "      <td>9.8</td>\n",
              "      <td>98.0</td>\n",
              "    </tr>\n",
              "    <tr>\n",
              "      <th>2</th>\n",
              "      <td>VINET</td>\n",
              "      <td>5</td>\n",
              "      <td>10248</td>\n",
              "      <td>14</td>\n",
              "      <td>72</td>\n",
              "      <td>5</td>\n",
              "      <td>34.8</td>\n",
              "      <td>174.0</td>\n",
              "    </tr>\n",
              "    <tr>\n",
              "      <th>3</th>\n",
              "      <td>TOMSP</td>\n",
              "      <td>6</td>\n",
              "      <td>10249</td>\n",
              "      <td>6</td>\n",
              "      <td>14</td>\n",
              "      <td>9</td>\n",
              "      <td>18.6</td>\n",
              "      <td>167.4</td>\n",
              "    </tr>\n",
              "    <tr>\n",
              "      <th>4</th>\n",
              "      <td>TOMSP</td>\n",
              "      <td>6</td>\n",
              "      <td>10249</td>\n",
              "      <td>24</td>\n",
              "      <td>51</td>\n",
              "      <td>40</td>\n",
              "      <td>42.4</td>\n",
              "      <td>1696.0</td>\n",
              "    </tr>\n",
              "    <tr>\n",
              "      <th>5</th>\n",
              "      <td>HANAR</td>\n",
              "      <td>4</td>\n",
              "      <td>10250</td>\n",
              "      <td>19</td>\n",
              "      <td>41</td>\n",
              "      <td>10</td>\n",
              "      <td>7.7</td>\n",
              "      <td>77.0</td>\n",
              "    </tr>\n",
              "    <tr>\n",
              "      <th>6</th>\n",
              "      <td>HANAR</td>\n",
              "      <td>4</td>\n",
              "      <td>10250</td>\n",
              "      <td>24</td>\n",
              "      <td>51</td>\n",
              "      <td>35</td>\n",
              "      <td>42.4</td>\n",
              "      <td>1484.0</td>\n",
              "    </tr>\n",
              "    <tr>\n",
              "      <th>7</th>\n",
              "      <td>HANAR</td>\n",
              "      <td>4</td>\n",
              "      <td>10250</td>\n",
              "      <td>2</td>\n",
              "      <td>65</td>\n",
              "      <td>15</td>\n",
              "      <td>16.8</td>\n",
              "      <td>252.0</td>\n",
              "    </tr>\n",
              "    <tr>\n",
              "      <th>8</th>\n",
              "      <td>VICTE</td>\n",
              "      <td>3</td>\n",
              "      <td>10251</td>\n",
              "      <td>9</td>\n",
              "      <td>22</td>\n",
              "      <td>6</td>\n",
              "      <td>16.8</td>\n",
              "      <td>100.8</td>\n",
              "    </tr>\n",
              "    <tr>\n",
              "      <th>9</th>\n",
              "      <td>VICTE</td>\n",
              "      <td>3</td>\n",
              "      <td>10251</td>\n",
              "      <td>26</td>\n",
              "      <td>57</td>\n",
              "      <td>15</td>\n",
              "      <td>15.6</td>\n",
              "      <td>234.0</td>\n",
              "    </tr>\n",
              "  </tbody>\n",
              "</table>\n",
              "</div>\n",
              "      <button class=\"colab-df-convert\" onclick=\"convertToInteractive('df-7dd02145-8973-4b56-86f9-325a84d452c8')\"\n",
              "              title=\"Convert this dataframe to an interactive table.\"\n",
              "              style=\"display:none;\">\n",
              "        \n",
              "  <svg xmlns=\"http://www.w3.org/2000/svg\" height=\"24px\"viewBox=\"0 0 24 24\"\n",
              "       width=\"24px\">\n",
              "    <path d=\"M0 0h24v24H0V0z\" fill=\"none\"/>\n",
              "    <path d=\"M18.56 5.44l.94 2.06.94-2.06 2.06-.94-2.06-.94-.94-2.06-.94 2.06-2.06.94zm-11 1L8.5 8.5l.94-2.06 2.06-.94-2.06-.94L8.5 2.5l-.94 2.06-2.06.94zm10 10l.94 2.06.94-2.06 2.06-.94-2.06-.94-.94-2.06-.94 2.06-2.06.94z\"/><path d=\"M17.41 7.96l-1.37-1.37c-.4-.4-.92-.59-1.43-.59-.52 0-1.04.2-1.43.59L10.3 9.45l-7.72 7.72c-.78.78-.78 2.05 0 2.83L4 21.41c.39.39.9.59 1.41.59.51 0 1.02-.2 1.41-.59l7.78-7.78 2.81-2.81c.8-.78.8-2.07 0-2.86zM5.41 20L4 18.59l7.72-7.72 1.47 1.35L5.41 20z\"/>\n",
              "  </svg>\n",
              "      </button>\n",
              "      \n",
              "  <style>\n",
              "    .colab-df-container {\n",
              "      display:flex;\n",
              "      flex-wrap:wrap;\n",
              "      gap: 12px;\n",
              "    }\n",
              "\n",
              "    .colab-df-convert {\n",
              "      background-color: #E8F0FE;\n",
              "      border: none;\n",
              "      border-radius: 50%;\n",
              "      cursor: pointer;\n",
              "      display: none;\n",
              "      fill: #1967D2;\n",
              "      height: 32px;\n",
              "      padding: 0 0 0 0;\n",
              "      width: 32px;\n",
              "    }\n",
              "\n",
              "    .colab-df-convert:hover {\n",
              "      background-color: #E2EBFA;\n",
              "      box-shadow: 0px 1px 2px rgba(60, 64, 67, 0.3), 0px 1px 3px 1px rgba(60, 64, 67, 0.15);\n",
              "      fill: #174EA6;\n",
              "    }\n",
              "\n",
              "    [theme=dark] .colab-df-convert {\n",
              "      background-color: #3B4455;\n",
              "      fill: #D2E3FC;\n",
              "    }\n",
              "\n",
              "    [theme=dark] .colab-df-convert:hover {\n",
              "      background-color: #434B5C;\n",
              "      box-shadow: 0px 1px 3px 1px rgba(0, 0, 0, 0.15);\n",
              "      filter: drop-shadow(0px 1px 2px rgba(0, 0, 0, 0.3));\n",
              "      fill: #FFFFFF;\n",
              "    }\n",
              "  </style>\n",
              "\n",
              "      <script>\n",
              "        const buttonEl =\n",
              "          document.querySelector('#df-7dd02145-8973-4b56-86f9-325a84d452c8 button.colab-df-convert');\n",
              "        buttonEl.style.display =\n",
              "          google.colab.kernel.accessAllowed ? 'block' : 'none';\n",
              "\n",
              "        async function convertToInteractive(key) {\n",
              "          const element = document.querySelector('#df-7dd02145-8973-4b56-86f9-325a84d452c8');\n",
              "          const dataTable =\n",
              "            await google.colab.kernel.invokeFunction('convertToInteractive',\n",
              "                                                     [key], {});\n",
              "          if (!dataTable) return;\n",
              "\n",
              "          const docLinkHtml = 'Like what you see? Visit the ' +\n",
              "            '<a target=\"_blank\" href=https://colab.research.google.com/notebooks/data_table.ipynb>data table notebook</a>'\n",
              "            + ' to learn more about interactive tables.';\n",
              "          element.innerHTML = '';\n",
              "          dataTable['output_type'] = 'display_data';\n",
              "          await google.colab.output.renderOutput(dataTable, element);\n",
              "          const docLink = document.createElement('div');\n",
              "          docLink.innerHTML = docLinkHtml;\n",
              "          element.appendChild(docLink);\n",
              "        }\n",
              "      </script>\n",
              "    </div>\n",
              "  </div>\n",
              "  "
            ],
            "text/plain": [
              "  Id_custumer  Id_employee  Id_time  ...  Quantity  UnitPrice   Total\n",
              "0       VINET            5    10248  ...        12       14.0   168.0\n",
              "1       VINET            5    10248  ...        10        9.8    98.0\n",
              "2       VINET            5    10248  ...         5       34.8   174.0\n",
              "3       TOMSP            6    10249  ...         9       18.6   167.4\n",
              "4       TOMSP            6    10249  ...        40       42.4  1696.0\n",
              "5       HANAR            4    10250  ...        10        7.7    77.0\n",
              "6       HANAR            4    10250  ...        35       42.4  1484.0\n",
              "7       HANAR            4    10250  ...        15       16.8   252.0\n",
              "8       VICTE            3    10251  ...         6       16.8   100.8\n",
              "9       VICTE            3    10251  ...        15       15.6   234.0\n",
              "\n",
              "[10 rows x 8 columns]"
            ]
          },
          "metadata": {},
          "execution_count": 22
        }
      ]
    },
    {
      "cell_type": "markdown",
      "source": [
        "#**CARGA DE DATOS AL DATA MART**"
      ],
      "metadata": {
        "id": "2W6kF_-CnmOg"
      }
    },
    {
      "cell_type": "markdown",
      "source": [
        "## **Conexión a la base de datos**\n"
      ],
      "metadata": {
        "id": "Kje4eZC9agpc"
      }
    },
    {
      "cell_type": "markdown",
      "source": [
        "Conexión a la base de datos DW_estrella"
      ],
      "metadata": {
        "id": "pm_KCR8Tagpc"
      }
    },
    {
      "cell_type": "code",
      "source": [
        "path2 = \"sqlite:///DW_estrella.db\"\n",
        "motor = sqlalchemy.create_engine(path2)\n",
        "conectar = motor.connect()"
      ],
      "metadata": {
        "id": "XHqZc593agpc"
      },
      "execution_count": 23,
      "outputs": []
    },
    {
      "cell_type": "markdown",
      "source": [
        "FUNCION DE LA CARGA DE DATOS"
      ],
      "metadata": {
        "id": "loBrjzhSSIuV"
      }
    },
    {
      "cell_type": "code",
      "source": [
        "def cargar_datos_a_sql(datos, connectar, tabla_Nombre):\n",
        "\n",
        "    datos.to_sql(tabla_Nombre, conectar, if_exists='append', index=False)\n",
        "    termino = print(\"Carga Finalizada\")\n",
        "    return termino"
      ],
      "metadata": {
        "id": "4LoN9M9vx8Sv"
      },
      "execution_count": 24,
      "outputs": []
    },
    {
      "cell_type": "markdown",
      "source": [
        "Carga de datos customer"
      ],
      "metadata": {
        "id": "nkMcUT1uyhWp"
      }
    },
    {
      "cell_type": "code",
      "source": [
        "tabla_nombre = \"dim_Customer\"\n",
        "cargar_datos_a_sql(df_custumer, conectar, tabla_nombre)"
      ],
      "metadata": {
        "colab": {
          "base_uri": "https://localhost:8080/"
        },
        "id": "kXV2FROqysEX",
        "outputId": "ff1117f3-d9d7-43ab-d426-528f510f2dac"
      },
      "execution_count": 25,
      "outputs": [
        {
          "output_type": "stream",
          "name": "stdout",
          "text": [
            "Carga Finalizada\n"
          ]
        }
      ]
    },
    {
      "cell_type": "markdown",
      "source": [
        "Carga de datos employees"
      ],
      "metadata": {
        "id": "Bvon6UNEO7pD"
      }
    },
    {
      "cell_type": "code",
      "source": [
        "tabla_nombre = \"dim_Employee\"\n",
        "cargar_datos_a_sql(df_employees, conectar, tabla_nombre)"
      ],
      "metadata": {
        "colab": {
          "base_uri": "https://localhost:8080/"
        },
        "outputId": "1791c7f6-847c-4c6d-be3f-0ad5a7178d4a",
        "id": "0lMfP6IZO7pE"
      },
      "execution_count": 26,
      "outputs": [
        {
          "output_type": "stream",
          "name": "stdout",
          "text": [
            "Carga Finalizada\n"
          ]
        }
      ]
    },
    {
      "cell_type": "markdown",
      "source": [
        "Carga de datos Product"
      ],
      "metadata": {
        "id": "lpoRbxfAO8TV"
      }
    },
    {
      "cell_type": "code",
      "source": [
        "tabla_nombre = \"dim_Product\"\n",
        "cargar_datos_a_sql(df_product, conectar, tabla_nombre)"
      ],
      "metadata": {
        "colab": {
          "base_uri": "https://localhost:8080/"
        },
        "outputId": "42fcd43b-1528-4679-ae27-b5812e336b7a",
        "id": "_gykcLFCO8TV"
      },
      "execution_count": 27,
      "outputs": [
        {
          "output_type": "stream",
          "name": "stdout",
          "text": [
            "Carga Finalizada\n"
          ]
        }
      ]
    },
    {
      "cell_type": "markdown",
      "source": [
        "Carga de datos Supplier"
      ],
      "metadata": {
        "id": "md2YUL_WO8bP"
      }
    },
    {
      "cell_type": "code",
      "source": [
        "tabla_nombre = \"dim_Supplier\"\n",
        "cargar_datos_a_sql(df_supplier, conectar, tabla_nombre)"
      ],
      "metadata": {
        "colab": {
          "base_uri": "https://localhost:8080/"
        },
        "outputId": "43fd7970-5a2f-41ff-9720-4918765598b4",
        "id": "cdVmapOPO8bP"
      },
      "execution_count": 28,
      "outputs": [
        {
          "output_type": "stream",
          "name": "stdout",
          "text": [
            "Carga Finalizada\n"
          ]
        }
      ]
    },
    {
      "cell_type": "markdown",
      "source": [
        "Carga de datos Time"
      ],
      "metadata": {
        "id": "qviay5O6O8il"
      }
    },
    {
      "cell_type": "code",
      "source": [
        "tabla_nombre = \"dim_time\"\n",
        "cargar_datos_a_sql(df_date, conectar, tabla_nombre)"
      ],
      "metadata": {
        "colab": {
          "base_uri": "https://localhost:8080/"
        },
        "outputId": "86897b87-980e-46ba-a4e1-05cfc72ee4d5",
        "id": "LhtqIDsNO8im"
      },
      "execution_count": 29,
      "outputs": [
        {
          "output_type": "stream",
          "name": "stdout",
          "text": [
            "Carga Finalizada\n"
          ]
        }
      ]
    },
    {
      "cell_type": "markdown",
      "source": [
        "Carga de datos a la tabla de hecho"
      ],
      "metadata": {
        "id": "p6CaTep8O8pt"
      }
    },
    {
      "cell_type": "code",
      "source": [
        "tabla_nombre = \"Fact_sales_order\"\n",
        "cargar_datos_a_sql(df_hechos, conectar, tabla_nombre)\n",
        "conectar.close()\n"
      ],
      "metadata": {
        "colab": {
          "base_uri": "https://localhost:8080/"
        },
        "outputId": "38b161c3-be3a-4f52-c196-5e7bf1d1dd34",
        "id": "MlE19DYeO8pt"
      },
      "execution_count": 30,
      "outputs": [
        {
          "output_type": "stream",
          "name": "stdout",
          "text": [
            "Carga Finalizada\n"
          ]
        }
      ]
    },
    {
      "cell_type": "markdown",
      "source": [
        "# **MODELO COPO DE NIEVE**"
      ],
      "metadata": {
        "id": "zTkVTOwy8yJR"
      }
    },
    {
      "cell_type": "markdown",
      "source": [
        "**CREACIÓN DE LAS DIMENSIONES**"
      ],
      "metadata": {
        "id": "LDFxkFle83wY"
      }
    },
    {
      "cell_type": "markdown",
      "source": [
        "CREAR DIMENSION "
      ],
      "metadata": {
        "id": "Xbr6g6TA9Kfz"
      }
    },
    {
      "cell_type": "code",
      "source": [
        ""
      ],
      "metadata": {
        "id": "nfjNToB-821B"
      },
      "execution_count": 30,
      "outputs": []
    },
    {
      "cell_type": "markdown",
      "source": [
        "CREAR DIMENSION "
      ],
      "metadata": {
        "id": "7V54SLAL9QaB"
      }
    },
    {
      "cell_type": "code",
      "source": [
        ""
      ],
      "metadata": {
        "id": "U-aYHxPe9QaC"
      },
      "execution_count": 30,
      "outputs": []
    },
    {
      "cell_type": "markdown",
      "source": [
        "CREAR DIMENSION "
      ],
      "metadata": {
        "id": "ynwPpyDJ9Qx-"
      }
    },
    {
      "cell_type": "code",
      "source": [
        ""
      ],
      "metadata": {
        "id": "egwwBw6o9Qx_"
      },
      "execution_count": 30,
      "outputs": []
    },
    {
      "cell_type": "markdown",
      "source": [
        "CREAR DIMENSION "
      ],
      "metadata": {
        "id": "0ChcpucN9Q-O"
      }
    },
    {
      "cell_type": "code",
      "source": [
        ""
      ],
      "metadata": {
        "id": "AkgKh4HH9Q-P"
      },
      "execution_count": 30,
      "outputs": []
    },
    {
      "cell_type": "markdown",
      "source": [
        "CREAR DIMENSION "
      ],
      "metadata": {
        "id": "QiigDWP_9RH2"
      }
    },
    {
      "cell_type": "code",
      "source": [
        ""
      ],
      "metadata": {
        "id": "hNcK2_dG9RH2"
      },
      "execution_count": 30,
      "outputs": []
    },
    {
      "cell_type": "markdown",
      "source": [
        "CREAR DIMENSION "
      ],
      "metadata": {
        "id": "RPvWcFM29RON"
      }
    },
    {
      "cell_type": "code",
      "source": [
        ""
      ],
      "metadata": {
        "id": "qGScmF1R9ROO"
      },
      "execution_count": 30,
      "outputs": []
    },
    {
      "cell_type": "markdown",
      "source": [
        "CREAR DIMENSION "
      ],
      "metadata": {
        "id": "wA9DyJFm9RS4"
      }
    },
    {
      "cell_type": "code",
      "source": [
        ""
      ],
      "metadata": {
        "id": "MwtUAhuc9RS5"
      },
      "execution_count": 30,
      "outputs": []
    },
    {
      "cell_type": "markdown",
      "source": [
        "CREAR DIMENSION "
      ],
      "metadata": {
        "id": "aGafFHLN9RWp"
      }
    },
    {
      "cell_type": "code",
      "source": [
        ""
      ],
      "metadata": {
        "id": "hZWw0SKB9RWp"
      },
      "execution_count": 30,
      "outputs": []
    },
    {
      "cell_type": "markdown",
      "source": [
        "CREAR DIMENSION "
      ],
      "metadata": {
        "id": "3SZSBX1N9RaB"
      }
    },
    {
      "cell_type": "code",
      "source": [
        ""
      ],
      "metadata": {
        "id": "dn3gAohR9RaB"
      },
      "execution_count": 30,
      "outputs": []
    },
    {
      "cell_type": "markdown",
      "source": [
        "CREAR DIMENSION "
      ],
      "metadata": {
        "id": "5d3M4hPt9Rcx"
      }
    },
    {
      "cell_type": "code",
      "source": [
        ""
      ],
      "metadata": {
        "id": "hRj7iJNJ9Rcy"
      },
      "execution_count": 30,
      "outputs": []
    },
    {
      "cell_type": "markdown",
      "source": [
        "CREAR DIMENSION "
      ],
      "metadata": {
        "id": "ZFCaI_mY9Rfg"
      }
    },
    {
      "cell_type": "code",
      "source": [
        ""
      ],
      "metadata": {
        "id": "OQ0UU1789Rfh"
      },
      "execution_count": 30,
      "outputs": []
    }
  ]
}